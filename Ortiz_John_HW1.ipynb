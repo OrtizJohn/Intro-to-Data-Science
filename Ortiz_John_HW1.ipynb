{
 "cells": [
  {
   "cell_type": "markdown",
   "metadata": {},
   "source": [
    "<a id='top'></a>\n",
    "\n",
    "# CSCI3022 F20\n",
    "# Homework 1: Data Cleaning and Exploratory Data Analysis \n",
    "***\n",
    "\n",
    "**Name**: John Ortiz\n",
    "\n",
    "***\n",
    "\n",
    "This assignment is due on Canvas by **MIDNIGHT on Friday September 4**. Your solutions to theoretical questions should be done in Markdown directly below the associated question.  Your solutions to computational questions should include any specified Python code and results as well as written commentary on your conclusions.  Remember that you are encouraged to discuss the problems with your classmates, but **you must write all code and solutions on your own**.\n",
    "\n",
    "**NOTES**: \n",
    "\n",
    "- Any relevant data sets should be available on Canvas. To make life easier on the graders if they need to run your code, do not change the relative path names here. Instead, move the files around on your computer.\n",
    "- If you're not familiar with typesetting math directly into Markdown then by all means, do your work on paper first and then typeset it later.  Remember that there is a [reference guide](https://math.meta.stackexchange.com/questions/5020/mathjax-basic-tutorial-and-quick-reference) linked on Canvas on writing math in Markdown. **All** of your written commentary, justifications and mathematical work should be in Markdown.\n",
    "- Because you can technically evaluate notebook cells is a non-linear order, it's a good idea to do Kernel $\\rightarrow$ Restart & Run All as a check before submitting your solutions.  That way if we need to run your code you will know that it will work as expected. \n",
    "- It is **bad form** to make your reader interpret numerical output from your code.  If a question asks you to compute some value from the data you should show your code output **AND** write a summary of the results in Markdown directly below your code. \n",
    "- 95 points of this assignment are in problems.  The remaining 5 are for neatness, style, and overall exposition of both code and text.\n",
    "- This probably goes without saying, but... For any question that asks you to calculate something, you **must show all work and justify your answers to receive credit**. Sparse or nonexistent work will receive sparse or nonexistent credit. \n",
    "\n",
    "---\n",
    "**Shortcuts:**  [Problem 1](#p1) | [Problem 2](#p2) | [Problem 3](#p3) | [Problem 4](#p4) |\n",
    "---"
   ]
  },
  {
   "cell_type": "code",
   "execution_count": 3,
   "metadata": {},
   "outputs": [],
   "source": [
    "import pandas as pd\n",
    "import numpy as np\n",
    "import matplotlib.pylab as plt\n",
    "%matplotlib inline"
   ]
  },
  {
   "cell_type": "markdown",
   "metadata": {},
   "source": [
    "[Back to top](#top)\n",
    "\n",
    "<br>\n",
    "\n",
    "<a/ id='p1'></a>\n",
    "\n",
    "### (20 points) Problem 1: Theory (Sampling)\n",
    "***\n",
    "\n",
    "<img style=\"float: left; width: 200px; padding: 3mm;\" src=\"https://upload.wikimedia.org/wikipedia/commons/5/57/Acme_ballot_box_-_Smithsonian.jpg\" alt=\"A ballot box\"/>  \n",
    "You are the head of a news outlet on election day. You have embedded journalists in key U.S. States in order sample voters at different polling stations in the states. Once your journalists choose a polling station, they monitor the station for the election day. The journalists then report back the number of votes for each candidate, which is recorded in a special App on your phone, called Hippocampus. Overall, your team collected data from 6 polling stations in Alaska, 36 polling stations in Ohio, 12 polling stations in Colorado, 6 polling stations in Iowa, and 42 polling stations from California.\n",
    "\n",
    "You want to get a sense of the average amount of votes for each candidate per polling station, so you use the Hippocampus app to randomly choose 1 polling station in Alaska, 6 polling stations in Ohio, 2 polling stations in Colorado, 1 polling station in Iowa, and 7 polling stations from California.\n",
    "\n",
    "$$ \\quad $$\n",
    "    \n",
    "**Part A:** Identify the following: \n",
    "\n",
    "- the population \n",
    "- the sample frame \n",
    "- the sample \n",
    "- the type of sample \n",
    "- the quantity of interest"
   ]
  },
  {
   "cell_type": "markdown",
   "metadata": {},
   "source": [
    "**The population is the number of votes.\n",
    "    The sample frame is the hippocampus app with data from \"6 polling stations in Alaska, 36 polling stations in Ohio, 12 polling stations in Colorado, 6 polling stations in Iowa, and 42 polling stations from California.\".\n",
    "    The sample is \"1 polling station in Alaska, 6 polling stations in Ohio, 2 polling stations in Colorado, 1 polling station in Iowa, and 7 polling stations from California\".\n",
    "    The type of sample is a simple random sample.\n",
    "    The quantity of interest is \"average amount of votes for each candidate per polling station.\"**\n",
    "    "
   ]
  },
  {
   "cell_type": "markdown",
   "metadata": {},
   "source": [
    "**Part B:** You repeat your sampling, again using the Hippocampus app. Now, you order the stations alphabetically by State and choose every 3rd data value. \n",
    "    \n",
    "Identify the following: \n",
    "\n",
    "- the population \n",
    "- the sample frame \n",
    "- the sample \n",
    "- the type of sample \n",
    "- the quantity of interest"
   ]
  },
  {
   "cell_type": "markdown",
   "metadata": {},
   "source": [
    "**The population is still the number of votes. The sample frame is still the hippocampus app with data from \"6 polling stations in Alaska, 36 polling stations in Ohio, 12 polling stations in Colorado, 6 polling stations in Iowa, and 42 polling stations from California.\". The sample has changed now we organize the sample frame( the polling stations ) alphabetically and take every third polling station. The type of sample is systematic sample because we organized the sample frame and picked the kth polling station where $k=3$. The quantity of interest has not changed and is still the \"average amount of votes for each candidate per polling station.\"**"
   ]
  },
  {
   "cell_type": "markdown",
   "metadata": {},
   "source": [
    "[Back to top](#top)\n",
    "\n",
    "<br>\n",
    "\n",
    "<a/ id='p2'></a>\n",
    "\n",
    "### (20 points) Problem 2: Theory and Computation (Means and Medians)\n",
    "***\n",
    "\n",
    "A method to investigate the sensitivity of the sample mean and sample median to extreme outliers and changes in the dataset is to replace one or more elements in a given dataset by a number $y$ and investigate the effect when $y$ changes. To illustrate this, consider the following dataset:\n",
    " \n",
    "$$  4.2 \\quad 5.1 \\quad 5.0 \\quad y \\quad 3.8 \\quad 4.1 \\quad 5.5 \\quad 1.9 $$\n",
    "\n",
    "\n"
   ]
  },
  {
   "cell_type": "markdown",
   "metadata": {},
   "source": [
    "**Part A:** Compute the sample mean and sample median for $y=1.5$. Then compute both quantities again for $y=6$."
   ]
  },
  {
   "cell_type": "code",
   "execution_count": 4,
   "metadata": {},
   "outputs": [
    {
     "name": "stdout",
     "output_type": "stream",
     "text": [
      "When y is 1.5: \n",
      "The mean is: 3.8875\n",
      "The median is: 4.15\n",
      "\n",
      "When y is 6: \n",
      "The mean is: 4.45\n",
      "The median is: 4.6\n",
      "\n"
     ]
    }
   ],
   "source": [
    "x_15 = np.array([4.2,5.1,5.0,1.5,3.8,4.1,5.5,1.9])\n",
    "x_6= np.array([4.2,5.1,5.0,6,3.8,4.1,5.5,1.9])  #1.9 3.8 4.1  4.2 5.0 5.1 5.5 6.0\n",
    "\n",
    "def centrality(x,y):\n",
    "    #mean calc\n",
    "    sum1= np.sum(x)\n",
    "    mean= sum1 / x.size\n",
    "    #median calc\n",
    "    x_sorted =np.sort(x) #sorted list\n",
    "    if(x_sorted.size %2 == 0): #needs to handle if size is even\n",
    "        median_iter_low = x_sorted.size/2 - 1\n",
    "        median_iter_high = x_sorted.size/2\n",
    "        median = ((x_sorted[int(median_iter_low)]) + (x_sorted[int(median_iter_high)]))/2\n",
    "    else: #needs to handle if size is odd\n",
    "        median_iter = np.floor(x_sorted.size/2)\n",
    "        median = x_sorted[int(median_iter)]\n",
    "\n",
    "    print(\"When y is \" + str(y) + \": \")\n",
    "    print(\"The mean is: \"+ str(mean))\n",
    "    print(\"The median is: \" + str(median))\n",
    "    print(\"\")\n",
    "\n",
    "centrality(x_15, 1.5)\n",
    "centrality(x_6, 6)"
   ]
  },
  {
   "cell_type": "markdown",
   "metadata": {},
   "source": [
    "**Part B:** Is there a value for $y$ that would make the mean of the data equal to 6? If so, calculate the value of $y$ that makes the mean equal to 6. If not, clearly explain why not.\n",
    "    \n",
    "Is there a value for $y$ that would make the median of the data equal to 6? If so, calculate the values of $y$ that makes the median equal to 6. If not, clearly explain why not."
   ]
  },
  {
   "cell_type": "markdown",
   "metadata": {},
   "source": [
    "**Yes there is a value for y that would make the mean of the data equal to 6. This could be done algebraically if we set 6 equal to the formula for mean: $\\bar x = (\\sum_i^n(x_i))/n$ . So are equation to solve looks like $\\bar x * n = (\\sum_i^n(x_i))$, where $\\bar x= 6$. The code for the calculations is in the next cell.**"
   ]
  },
  {
   "cell_type": "code",
   "execution_count": 5,
   "metadata": {},
   "outputs": [
    {
     "name": "stdout",
     "output_type": "stream",
     "text": [
      "So y would be: 18.4\n"
     ]
    }
   ],
   "source": [
    "arr_excl_y = np.array([4.2,5.1,5.0,3.8,4.1,5.5,1.9]) #sum of all other numbers\n",
    "arr_size = arr_excl_y.size +1 #total size (including y)\n",
    "meanTimesSize= 6 *arr_size\n",
    "y= meanTimesSize - np.sum(arr_excl_y)\n",
    "print(\"So y would be: \" + str(y))"
   ]
  },
  {
   "cell_type": "markdown",
   "metadata": {},
   "source": [
    "**No there would be no value for y that would make the median equal 6. This is mostly impart to how the median does not utilize all the data points. Hence, would not be affected by a single point. Since the mean does use all the data it can be affected by a single observation.**"
   ]
  },
  {
   "cell_type": "markdown",
   "metadata": {},
   "source": [
    "**Part C**: Compute the sample variance and the sample standard deviation for the original dataset given in part A, with $y=6$.\n",
    "\n"
   ]
  },
  {
   "cell_type": "markdown",
   "metadata": {},
   "source": [
    "Before we code this we need to know the two formulas; these formulas are listed as follows:\n",
    "Sample Variance = $s^2$ = $ \\frac{\\sum_i^n [(x_i - \\bar x)^2 ]} {n-1}$   \n",
    "Standard Deviation = s = $ \\sqrt{\\frac{\\sum_i^n [(x_i - \\bar x)^2 ]} {n-1}}$"
   ]
  },
  {
   "cell_type": "code",
   "execution_count": 6,
   "metadata": {},
   "outputs": [
    {
     "name": "stdout",
     "output_type": "stream",
     "text": [
      "Our mean is: 4.45\n",
      "This is the difference between each x_i and the mean squared: \n",
      "[0.0625 0.4225 0.3025 2.4025 0.4225 0.1225 1.1025 6.5025]\n",
      "\n",
      "The sample variance: 1.6199999999999999\n",
      "The standard deviation: 1.2727922061357855\n"
     ]
    }
   ],
   "source": [
    "#first we need to calculate the mean\n",
    "#helper function for calc. mean\n",
    "def calcMean(x):\n",
    "    #mean calc\n",
    "    sum1= np.sum(x)\n",
    "    mean= sum1 / x.size\n",
    "    return mean\n",
    "#remember I have already created an array when y=6, so i just have to call it in calc mean helper function\n",
    "#print(x_6) tested to make sure it works still\n",
    "xBar = calcMean(x_6)\n",
    "print(\"Our mean is: \" + str(xBar))\n",
    "differenceArr = x_6 #temporary copy of orig array\n",
    "\n",
    "for i in range(0,differenceArr.size): #does the calculation for each x_i\n",
    "    differenceArr[i]= np.square(differenceArr[i] - xBar)\n",
    "    #print(np.square(differenceArr[i] - xBar))\n",
    "print(\"This is the difference between each x_i and the mean squared: \")\n",
    "print(differenceArr)   \n",
    "numerator = np.sum(differenceArr)\n",
    "denominator = differenceArr.size -1\n",
    "variance = numerator/denominator\n",
    "std =  np.sqrt(variance)\n",
    "print(\"\")\n",
    "print(\"The sample variance: \" + str(variance))\n",
    "print(\"The standard deviation: \" + str(std))"
   ]
  },
  {
   "cell_type": "markdown",
   "metadata": {},
   "source": [
    "**Part D**: Compute the sample median for the following cases: \n",
    "- $y=5$ \n",
    "- $y=50$ \n",
    "- $y=4.36$ \n",
    "- $y \\to \\infty$ \n",
    "- $y \\to -\\infty$"
   ]
  },
  {
   "cell_type": "code",
   "execution_count": 7,
   "metadata": {},
   "outputs": [
    {
     "name": "stdout",
     "output_type": "stream",
     "text": [
      "When y is 5: \n",
      "Sorted array: [1.9 3.8 4.1 4.2 5.  5.  5.1 5.5]\n",
      "The median is: 4.6\n",
      "\n",
      "When y is 50: \n",
      "Sorted array: [ 1.9  3.8  4.1  4.2  5.   5.1  5.5 50. ]\n",
      "The median is: 4.6\n",
      "\n",
      "When y is 4.36: \n",
      "Sorted array: [1.9  3.8  4.1  4.2  4.36 5.   5.1  5.5 ]\n",
      "The median is: 4.28\n",
      "\n",
      "When y is inf: \n",
      "Sorted array: [1.9 3.8 4.1 4.2 5.  5.1 5.5 inf]\n",
      "The median is: 4.6\n",
      "\n",
      "When y is -inf: \n",
      "Sorted array: [-inf  1.9  3.8  4.1  4.2  5.   5.1  5.5]\n",
      "The median is: 4.15\n",
      "\n"
     ]
    }
   ],
   "source": [
    "def medianCalc(x,y):\n",
    "    #median calc\n",
    "    x_sorted =np.sort(x) #sorted list\n",
    "    \n",
    "    if(x_sorted.size %2 == 0): #needs to handle if size is even\n",
    "        median_iter_low = x_sorted.size/2 - 1\n",
    "        median_iter_high = x_sorted.size/2\n",
    "        median = ((x_sorted[int(median_iter_low)]) + (x_sorted[int(median_iter_high)]))/2\n",
    "    else: #needs to handle if size is odd\n",
    "        median_iter = np.floor(x_sorted.size/2)\n",
    "        median = x_sorted[int(median_iter)]\n",
    "    print(\"When y is \" + str(y) + \": \")\n",
    "    print(\"Sorted array: \" + str(x_sorted))\n",
    "    print(\"The median is: \" + str(median))\n",
    "    print(\"\")\n",
    "y5 = np.array([4.2,5.1,5.0,5,3.8,4.1,5.5,1.9])\n",
    "y50= np.array([4.2,5.1,5.0,50,3.8,4.1,5.5,1.9])  \n",
    "y436 = np.array([4.2,5.1,5.0,4.36,3.8,4.1,5.5,1.9])\n",
    "yInf= np.array([4.2,5.1,5.0,np.inf,3.8,4.1,5.5,1.9])  \n",
    "yNinf= np.array([4.2,5.1,5.0,np.NINF,3.8,4.1,5.5,1.9])  \n",
    "medianCalc(y5,5)\n",
    "medianCalc(y50,50)\n",
    "medianCalc(y436,4.36)\n",
    "medianCalc(yInf,np.inf)\n",
    "medianCalc(yNinf,np.NINF)"
   ]
  },
  {
   "cell_type": "markdown",
   "metadata": {},
   "source": [
    "**Part E**: Think about the previous parts, above, and describe in words or mathematical notation the answers to the following two questions:\n",
    "\n",
    "- By varying $y$, what is the set of all the possible values that the sample mean could take on?\n",
    "- By varying $y$, what is the set of all the possible values that the sample median could take on? Specifically, for what sets of $y$ values does the median take on its different possible values?"
   ]
  },
  {
   "cell_type": "markdown",
   "metadata": {},
   "source": [
    "**By varying y the set of all possible values is all rational numbers, because the mean utilizes all the data points. So if y is a large quantity then it will have a big pull on the mean. For the median, y can be effective only if it changes the middle to points. Y could do that by being between (4.2,5) or y could <4.2 which would push the median further left by pushing the two middle indexes down 1. However if y >5 there will be no change because y would have no effect on moving the middle indexes.**\n"
   ]
  },
  {
   "cell_type": "markdown",
   "metadata": {},
   "source": [
    "**Part F**: Describe in words or mathematical notation, what happens to the sample standard deviation when $y$ is varied in the following ways: \n",
    " \n",
    "- $y \\to \\infty$ \n",
    "- $y \\to \\bar{x}$"
   ]
  },
  {
   "cell_type": "markdown",
   "metadata": {},
   "source": [
    "**First the equation to standard deviation is: s = $ \\sqrt{\\frac{\\sum_i^n [(x_i - \\bar x)^2 ]} {n-1}}$\n",
    "<br> When $y\\to\\infty$: <br>\n",
    "    Now that we have that we can see that when y approaches infinity it means the numerator is also approaching infinity. Hence the fraction will also go to infinity since the denominator is constants. $\\frac{\\infty}{c} = \\infty$ So the standard deviation goes to infinity.\n",
    "<br>When $y\\to \\bar x$: <br> \n",
    "    We can see that for when $x_i = y$ then when summed to be part of the total for the numerator we would be adding 0. Effectively we are making the point have no effect on standard deviation because if y is the mean then it can not deviate from itself.** \n",
    "    "
   ]
  },
  {
   "cell_type": "markdown",
   "metadata": {},
   "source": [
    "[Back to top](#top)\n",
    "<a/ id='p6'></a>\n",
    "\n",
    "## (20 pts) Problem 3: Computation (Scaling)\n",
    "***\n",
    "Consider the following 3 data sets:\n",
    "\n",
    "`A=[0,1,2,3,4,5,6,7,8,9,10,11,12]`\n",
    "\n",
    "`B=[0,0,0,12,7,18,47,25,0,13,0,35]`\n",
    "\n",
    "`C` is the random data set generated by using `np.random.exponential(scale=43, size=1000)`\n",
    "\n",
    "For each data set, perform the following computations in parts A, B, and C:\n",
    "\n",
    "**Part A:** Compute and print the mean and standard deviation of the data set."
   ]
  },
  {
   "cell_type": "code",
   "execution_count": 8,
   "metadata": {},
   "outputs": [
    {
     "name": "stdout",
     "output_type": "stream",
     "text": [
      "For data set A: \n",
      "The standard deviation is: 3.8944404818493075\n",
      "The mean is: 6.0\n",
      "\n",
      "For data set B: \n",
      "The standard deviation is: 15.635042227462817\n",
      "The mean is: 13.083333333333334\n",
      "\n",
      "For data set C: \n",
      "The standard deviation is: 41.259209303846525\n",
      "The mean is: 41.90924442464324\n",
      "\n"
     ]
    }
   ],
   "source": [
    "A=np.array([0,1,2,3,4,5,6,7,8,9,10,11,12])\n",
    "B=np.array([0,0,0,12,7,18,47,25,0,13,0,35])\n",
    "C= np.random.exponential(scale=43, size=1000)\n",
    "#backup arrays for part b:\n",
    "\n",
    "\n",
    "\n",
    "#calcMean is a function i defined in question 2 part c which returns the mean \n",
    "meanA = calcMean(A)\n",
    "meanB = calcMean(B)\n",
    "meanC = calcMean(C)\n",
    "\n",
    "\n",
    "def calcStd (x,mean):\n",
    "    test = x #temporary copy of orig array\n",
    "    differenceArr = np.array(test)\n",
    "    for i in range(0,differenceArr.size): #does the calculation for each x_i - mean\n",
    "        differenceArr[i]= np.square(differenceArr[i] - mean)\n",
    "    #print(\"This is the difference between each x_i and the mean squared: \") #used my code from q2 part c to create this function\n",
    "    #print(differenceArr)   \n",
    "    numerator = np.sum(differenceArr)\n",
    "    denominator = differenceArr.size -1\n",
    "    variance = numerator/denominator\n",
    "    std =  np.sqrt(variance)\n",
    "    return std\n",
    "stdA= calcStd(A,meanA)\n",
    "stdB= calcStd(B,meanB)\n",
    "stdC= calcStd(C,meanC)\n",
    "\n",
    "\n",
    "def printMeanStd(mean, std, name):\n",
    "    print(\"For data set \" + name + \": \")\n",
    "    print(\"The standard deviation is: \" + str(std))\n",
    "    print(\"The mean is: \" + str(mean))\n",
    "    print(\"\")\n",
    "printMeanStd(meanA, stdA, \"A\")\n",
    "printMeanStd(meanB, stdB, \"B\")\n",
    "printMeanStd(meanC, stdC, \"C\")\n",
    "\n",
    "\n",
    "#checking answers\n",
    "#print(\"Real answer for std: \" + str(np.std(A,ddof=1)))\n",
    "#print(\"Real answer for mean: \" + str(np.mean(A)))\n"
   ]
  },
  {
   "cell_type": "markdown",
   "metadata": {},
   "source": [
    "**Part B:** Compute and print  the mean and standard deviation of the new data set formed by subtracting the original mean from each observation."
   ]
  },
  {
   "cell_type": "code",
   "execution_count": 9,
   "metadata": {},
   "outputs": [
    {
     "name": "stdout",
     "output_type": "stream",
     "text": [
      "For data set D: \n",
      "The standard deviation is: 3.8944404818493075\n",
      "The mean is: 0.0\n",
      "\n",
      "For data set E: \n",
      "The standard deviation is: 15.204664356105273\n",
      "The mean is: -0.25\n",
      "\n",
      "For data set F: \n",
      "The standard deviation is: 41.259209303846525\n",
      "The mean is: 2.5579538487363605e-16\n",
      "\n",
      "Where D,E,F are the new data sets formed from subtracting the original mean from each point.\n"
     ]
    }
   ],
   "source": [
    "#from the previous section we will use my helper function from above: calcMean, calcStd, and printMeanStd\n",
    "\n",
    "def diffArray(x,mean):\n",
    "    diff_temp = x\n",
    "    diff= np.array(diff_temp)\n",
    "    for i in range(0,diff.size): #does the calculation for each x_i - mean\n",
    "        diff[i]= diff[i] - mean\n",
    "    return diff\n",
    "D=diffArray(A,meanA)\n",
    "E=diffArray(B,meanB)\n",
    "F=diffArray(C,meanC)\n",
    "#gets the new mean for new data set\n",
    "meanD = calcMean(D)\n",
    "meanE = calcMean(E)\n",
    "meanF = calcMean(F)\n",
    "#gets the std for new data set \n",
    "stdD= calcStd(D,meanD)\n",
    "stdE= calcStd(E,meanE)\n",
    "stdF= calcStd(F,meanF)\n",
    "#print(\"This is the new data set after mean subtraction for A: \" + str(D) )\n",
    "printMeanStd(meanD, stdD, \"D\")\n",
    "printMeanStd(meanE, stdE, \"E\")\n",
    "printMeanStd(meanF, stdF, \"F\")\n",
    "print(\"Where D,E,F are the new data sets formed from subtracting the original mean from each point.\")\n",
    "\n",
    "\n",
    "\n",
    "#checking answers\n",
    "#print(\"Real answer for std: \" + str(np.std(D,ddof=1)))\n",
    "#print(\"Real answer for mean: \" + str(np.mean(D)))"
   ]
  },
  {
   "cell_type": "markdown",
   "metadata": {},
   "source": [
    "**Part C:** Compute and print  the mean and standard deviation of the new data set formed by subtracting the original mean from each observation and then dividing by the original standard deviation."
   ]
  },
  {
   "cell_type": "code",
   "execution_count": 10,
   "metadata": {},
   "outputs": [
    {
     "name": "stdout",
     "output_type": "stream",
     "text": [
      "For data set G: \n",
      "The standard deviation is: 0.7071067811865476\n",
      "The mean is: 0.0\n",
      "\n",
      "For data set H: \n",
      "The standard deviation is: 0.5222329678670935\n",
      "The mean is: 0.25\n",
      "\n",
      "For data set I: \n",
      "The standard deviation is: 0.9999999999999999\n",
      "The mean is: 1.4210854715202004e-17\n",
      "\n",
      "Where G,H,I are the new data sets formed from subtracting the original mean from each point and dividing it by the original standard deviation.\n"
     ]
    }
   ],
   "source": [
    "#from the previous section we will use my helper function from above: calcMean, calcStd, and printMeanStd\n",
    "\n",
    "def subDivisArray(x,mean,std):\n",
    "    diff_temp = x\n",
    "    diff= np.array(diff_temp)\n",
    "    for i in range(0,diff.size): #does the calculation for each x_i - mean\n",
    "        diff[i]= (diff[i] - mean)/std\n",
    "    return diff\n",
    "\n",
    "G=subDivisArray(A,meanA,stdA)\n",
    "H=subDivisArray(B,meanB,stdB)\n",
    "I=subDivisArray(C,meanC,stdC)\n",
    "\n",
    "\n",
    "#gets the new mean for new data set\n",
    "meanG = calcMean(G)\n",
    "meanH = calcMean(H)\n",
    "meanI = calcMean(I)\n",
    "#gets the std for new data set \n",
    "stdG= calcStd(G,meanG)\n",
    "stdH= calcStd(H,meanH)\n",
    "stdI= calcStd(I,meanI)\n",
    "#print(\"This is the new data set after mean subtraction for A: \" + str(D) )\n",
    "printMeanStd(meanG, stdG, \"G\")\n",
    "printMeanStd(meanH, stdH, \"H\")\n",
    "printMeanStd(meanI, stdI, \"I\")\n",
    "print(\"Where G,H,I are the new data sets formed from subtracting the original mean from each point and dividing it by the original standard deviation.\")\n",
    "\n",
    "\n",
    "\n",
    "#checking answers\n",
    "#print(\"Real answer for std: \" + str(np.std(G,ddof=1)))\n",
    "#print(\"Real answer for mean: \" + str(np.mean(G)))"
   ]
  },
  {
   "cell_type": "markdown",
   "metadata": {},
   "source": [
    "**Part D:** Why might this result matter?"
   ]
  },
  {
   "cell_type": "markdown",
   "metadata": {},
   "source": [
    "**Well with any standard deviation and mean we will be able to tell if the data is right or left skew or symmetric. This will help us understand are data better and its behavior.**"
   ]
  },
  {
   "cell_type": "markdown",
   "metadata": {},
   "source": [
    "**Part E:** Looking at each of the 3 data sets, come up with a real-world context where those kind of numbers might make for reasonable observations."
   ]
  },
  {
   "cell_type": "markdown",
   "metadata": {},
   "source": [
    "**Dataset A could represent the number of points each player on the basketball team had. Dataset B in a real world context could be the amount of time spent on a quiz. Any zero marked would mean that person was absent. Dataset C could come from a big online retailer that is measuring percentage of how many orders a customer makes divided by the amount of advertisements seen by them. This can explain such a wide range of points.**"
   ]
  },
  {
   "cell_type": "markdown",
   "metadata": {},
   "source": [
    "[Back to top](#top)\n",
    "<a/ id='p4'></a>\n",
    "\n",
    "## (35 pts) Problem 4: Data (monthly patterns)\n",
    "***\n",
    "\n",
    "NOAA's Physical Sciences division (https://www.esrl.noaa.gov/psd) houses an enormous amount of weather data.  Load `BoulderPrecip.csv` from the course page for the last 120 years of monthly precipitation data from Boulder.  Let's take a look!"
   ]
  },
  {
   "cell_type": "code",
   "execution_count": 11,
   "metadata": {},
   "outputs": [
    {
     "data": {
      "text/html": [
       "<div>\n",
       "<style scoped>\n",
       "    .dataframe tbody tr th:only-of-type {\n",
       "        vertical-align: middle;\n",
       "    }\n",
       "\n",
       "    .dataframe tbody tr th {\n",
       "        vertical-align: top;\n",
       "    }\n",
       "\n",
       "    .dataframe thead th {\n",
       "        text-align: right;\n",
       "    }\n",
       "</style>\n",
       "<table border=\"1\" class=\"dataframe\">\n",
       "  <thead>\n",
       "    <tr style=\"text-align: right;\">\n",
       "      <th></th>\n",
       "      <th>Year</th>\n",
       "      <th>JAN</th>\n",
       "      <th>FEB</th>\n",
       "      <th>MAR</th>\n",
       "      <th>APR</th>\n",
       "      <th>MAY</th>\n",
       "      <th>JUN</th>\n",
       "      <th>JUL</th>\n",
       "      <th>AUG</th>\n",
       "      <th>SEP</th>\n",
       "      <th>OCT</th>\n",
       "      <th>NOV</th>\n",
       "      <th>DEC</th>\n",
       "      <th>YEAR TOTAL</th>\n",
       "    </tr>\n",
       "  </thead>\n",
       "  <tbody>\n",
       "    <tr>\n",
       "      <td>0</td>\n",
       "      <td>1900</td>\n",
       "      <td>0.4</td>\n",
       "      <td>1.06</td>\n",
       "      <td>0.75</td>\n",
       "      <td>9.18</td>\n",
       "      <td>1.84</td>\n",
       "      <td>0.49</td>\n",
       "      <td>0.48</td>\n",
       "      <td>0.22</td>\n",
       "      <td>1.54</td>\n",
       "      <td>0.13</td>\n",
       "      <td>0.19</td>\n",
       "      <td>0.61</td>\n",
       "      <td>16.89</td>\n",
       "    </tr>\n",
       "    <tr>\n",
       "      <td>1</td>\n",
       "      <td>1901</td>\n",
       "      <td>0.53</td>\n",
       "      <td>0.3</td>\n",
       "      <td>1.74</td>\n",
       "      <td>3.51</td>\n",
       "      <td>1.62</td>\n",
       "      <td>1.76</td>\n",
       "      <td>0.46</td>\n",
       "      <td>1.69</td>\n",
       "      <td>0.16</td>\n",
       "      <td>0.65</td>\n",
       "      <td>Tr</td>\n",
       "      <td>1.43</td>\n",
       "      <td>13.85</td>\n",
       "    </tr>\n",
       "    <tr>\n",
       "      <td>2</td>\n",
       "      <td>1902</td>\n",
       "      <td>0.37</td>\n",
       "      <td>0.48</td>\n",
       "      <td>1.48</td>\n",
       "      <td>1.01</td>\n",
       "      <td>2.32</td>\n",
       "      <td>1.46</td>\n",
       "      <td>1.26</td>\n",
       "      <td>0.53</td>\n",
       "      <td>5.46</td>\n",
       "      <td>1.44</td>\n",
       "      <td>1.29</td>\n",
       "      <td>1.34</td>\n",
       "      <td>18.44</td>\n",
       "    </tr>\n",
       "    <tr>\n",
       "      <td>3</td>\n",
       "      <td>1903</td>\n",
       "      <td>0.08</td>\n",
       "      <td>1.52</td>\n",
       "      <td>1.45</td>\n",
       "      <td>2.31</td>\n",
       "      <td>2.02</td>\n",
       "      <td>1.87</td>\n",
       "      <td>0.95</td>\n",
       "      <td>1.46</td>\n",
       "      <td>1.31</td>\n",
       "      <td>3.43</td>\n",
       "      <td>0.15</td>\n",
       "      <td>0.16</td>\n",
       "      <td>16.71</td>\n",
       "    </tr>\n",
       "    <tr>\n",
       "      <td>4</td>\n",
       "      <td>1904</td>\n",
       "      <td>0.09</td>\n",
       "      <td>0.31</td>\n",
       "      <td>2.37</td>\n",
       "      <td>1.45</td>\n",
       "      <td>5.35</td>\n",
       "      <td>2.72</td>\n",
       "      <td>1.05</td>\n",
       "      <td>1.00</td>\n",
       "      <td>1.6</td>\n",
       "      <td>1.06</td>\n",
       "      <td>0.08</td>\n",
       "      <td>0.7</td>\n",
       "      <td>17.78</td>\n",
       "    </tr>\n",
       "  </tbody>\n",
       "</table>\n",
       "</div>"
      ],
      "text/plain": [
       "   Year   JAN   FEB   MAR   APR   MAY   JUN   JUL   AUG   SEP   OCT   NOV  \\\n",
       "0  1900   0.4  1.06  0.75  9.18  1.84  0.49  0.48  0.22  1.54  0.13  0.19   \n",
       "1  1901  0.53   0.3  1.74  3.51  1.62  1.76  0.46  1.69  0.16  0.65    Tr   \n",
       "2  1902  0.37  0.48  1.48  1.01  2.32  1.46  1.26  0.53  5.46  1.44  1.29   \n",
       "3  1903  0.08  1.52  1.45  2.31  2.02  1.87  0.95  1.46  1.31  3.43  0.15   \n",
       "4  1904  0.09  0.31  2.37  1.45  5.35  2.72  1.05  1.00   1.6  1.06  0.08   \n",
       "\n",
       "    DEC YEAR TOTAL  \n",
       "0  0.61      16.89  \n",
       "1  1.43      13.85  \n",
       "2  1.34      18.44  \n",
       "3  0.16      16.71  \n",
       "4   0.7      17.78  "
      ]
     },
     "execution_count": 11,
     "metadata": {},
     "output_type": "execute_result"
    }
   ],
   "source": [
    "dfPrecip = pd.read_csv('../Data/BoulderPrecip.csv')\n",
    "dfPrecip.head()\n"
   ]
  },
  {
   "cell_type": "markdown",
   "metadata": {},
   "source": [
    "**Part A:** SCRUBBING!  Our data set is going to be tough to use for a few reasons.\n",
    "\n",
    "1) When the amount of precipitation was nonzero but too small to be recorded, this data set recorded `tr`.  Replace these with zeroes.\n",
    "\n",
    "2) 2020 isn't over yet!  We have one row at the bottom that isn't fully complete and NA values have been filled into the months that haven't happened yet.  This can wreak havoc on a lot of our methods!  Drop the 2020 data entirely.\n",
    "\n",
    "3) You may have some object typing issues relating to columns that contained both \"Tr\"/\"NA\" and numeric values.  Ensure that Python is treating all of your data as numeric!"
   ]
  },
  {
   "cell_type": "code",
   "execution_count": 12,
   "metadata": {},
   "outputs": [
    {
     "name": "stdout",
     "output_type": "stream",
     "text": [
      "<class 'pandas.core.frame.DataFrame'>\n",
      "Int64Index: 120 entries, 0 to 119\n",
      "Data columns (total 14 columns):\n",
      "Year          120 non-null int64\n",
      "JAN           120 non-null float64\n",
      "FEB           120 non-null float64\n",
      "MAR           120 non-null float64\n",
      "APR           120 non-null float64\n",
      "MAY           120 non-null float64\n",
      "JUN           120 non-null float64\n",
      "JUL           120 non-null float64\n",
      "AUG           120 non-null float64\n",
      "SEP           120 non-null float64\n",
      "OCT           120 non-null float64\n",
      "NOV           120 non-null float64\n",
      "DEC           120 non-null float64\n",
      "YEAR TOTAL    120 non-null float64\n",
      "dtypes: float64(13), int64(1)\n",
      "memory usage: 14.1 KB\n"
     ]
    }
   ],
   "source": [
    "#print(dfPrecip)\n",
    "dfPrecip.replace({'Tr': 0},inplace=True) #1\n",
    "dfPrecip.drop({120},inplace=True) #2\n",
    "\n",
    "#dfPrecip.info()\n",
    "def fix_Month(val): #based nb03 function with apply\n",
    "    \n",
    "    if pd.isnull(val):\n",
    "        return val \n",
    "    num = float(val)\n",
    "    return(num)\n",
    "dfPrecip.loc[:,\"JAN\"] = dfPrecip.loc[:,\"JAN\"].apply(fix_Month)\n",
    "dfPrecip.loc[:,\"FEB\"] = dfPrecip.loc[:,\"FEB\"].apply(fix_Month)\n",
    "dfPrecip.loc[:,\"MAY\"] = dfPrecip.loc[:,\"MAY\"].apply(fix_Month)\n",
    "dfPrecip.loc[:,\"JUN\"] = dfPrecip.loc[:,\"JUN\"].apply(fix_Month)\n",
    "dfPrecip.loc[:,\"SEP\"] = dfPrecip.loc[:,\"SEP\"].apply(fix_Month)\n",
    "dfPrecip.loc[:,\"OCT\"] = dfPrecip.loc[:,\"OCT\"].apply(fix_Month)\n",
    "dfPrecip.loc[:,\"NOV\"] = dfPrecip.loc[:,\"NOV\"].apply(fix_Month)\n",
    "dfPrecip.loc[:,\"DEC\"] = dfPrecip.loc[:,\"DEC\"].apply(fix_Month)\n",
    "dfPrecip.loc[:,\"YEAR TOTAL\"] = dfPrecip.loc[:,\"YEAR TOTAL\"].apply(fix_Month)\n",
    "dfPrecip.info()\n",
    "\n"
   ]
  },
  {
   "cell_type": "markdown",
   "metadata": {},
   "source": [
    "**Part B:** Generate a series of 12 box plots with month as the x axis and precipitation on the y-axis."
   ]
  },
  {
   "cell_type": "code",
   "execution_count": 13,
   "metadata": {},
   "outputs": [
    {
     "data": {
      "text/plain": [
       "Text(0.5, 1.0, 'Precipitation over Time')"
      ]
     },
     "execution_count": 13,
     "metadata": {},
     "output_type": "execute_result"
    },
    {
     "data": {
      "image/png": "[encoded data removed]",
      "text/plain": [
       "<Figure size 720x432 with 1 Axes>"
      ]
     },
     "metadata": {
      "needs_background": "light"
     },
     "output_type": "display_data"
    }
   ],
   "source": [
    "fig, ax = plt.subplots(figsize=(10,6))\n",
    "bp = dfPrecip.boxplot(column=['JAN', 'FEB', 'MAR','APR','MAY','JUN','JUL','AUG','SEP', 'OCT','NOV','DEC'], ax=ax,);\n",
    "bp.set_xlabel(\"Months\")\n",
    "bp.set_ylabel(\"Precipitation\")\n",
    "plt.title(\"Precipitation over Time\",fontsize=20)"
   ]
  },
  {
   "cell_type": "markdown",
   "metadata": {},
   "source": [
    "\n",
    "**Part C:** Spring is the wet season in Boulder.   But what is Spring?\n",
    "\n",
    "Atmospheric scientists love to group months seasonally, breaking the year into a Winter season including December, January, February; a Spring including March, April, and May; and so forth.\n",
    "\n",
    "The solar year, however, says that Spring runs from near the end of March until near the end of June: let's round at the nearest month and say that it includes the months of April, May and June.\n",
    "\n",
    "Generate a box plot with precipitation on the y-axis and the two possible monthly 'Spring' groupings (March-May versus April-June) as the x-axis."
   ]
  },
  {
   "cell_type": "code",
   "execution_count": 14,
   "metadata": {},
   "outputs": [
    {
     "data": {
      "text/plain": [
       "Text(0, 0.5, 'Precipitation')"
      ]
     },
     "execution_count": 14,
     "metadata": {},
     "output_type": "execute_result"
    },
    {
     "data": {
      "image/png": "[encoded data removed]",
      "text/plain": [
       "<Figure size 432x288 with 1 Axes>"
      ]
     },
     "metadata": {
      "needs_background": "light"
     },
     "output_type": "display_data"
    }
   ],
   "source": [
    "SpringMM = dfPrecip['MAR']+dfPrecip['APR']+dfPrecip['MAY']\n",
    "SpringAJ = dfPrecip['APR']+dfPrecip['MAY']+dfPrecip['JUN']\n",
    "\n",
    "plt.boxplot([SpringMM, SpringAJ])\n",
    "plt.title(\"Comparing Springs\",fontsize=20)\n",
    "plt.xlabel('Spring Groupings',fontsize=16)\n",
    "plt.ylabel('Precipitation',fontsize=16)\n"
   ]
  },
  {
   "cell_type": "markdown",
   "metadata": {},
   "source": [
    "**Part D:** These might look pretty similar!  Highlight and comment on any differences by calculating the mean, standard deviation, and a Tukey five number summary of each classification of Spring.  Is there a reason here to favor one grouping over the other?"
   ]
  },
  {
   "cell_type": "code",
   "execution_count": 15,
   "metadata": {},
   "outputs": [
    {
     "name": "stdout",
     "output_type": "stream",
     "text": [
      "This is the Mar-May Spring Grouping:\n",
      "count    120.00000\n",
      "mean       7.51900\n",
      "std        2.73733\n",
      "min        2.21000\n",
      "25%        5.59750\n",
      "50%        7.10000\n",
      "75%        9.17500\n",
      "max       16.75000\n",
      "dtype: float64\n",
      "\n",
      "This is the APR-JUN Spring Grouping:\n",
      "count    120.000000\n",
      "mean       7.681917\n",
      "std        2.939852\n",
      "min        3.120000\n",
      "25%        5.222500\n",
      "50%        7.380000\n",
      "75%        9.482500\n",
      "max       19.070000\n",
      "dtype: float64\n"
     ]
    }
   ],
   "source": [
    "print(\"This is the Mar-May Spring Grouping:\")\n",
    "print(SpringMM.describe())\n",
    "print(\"\")\n",
    "print(\"This is the APR-JUN Spring Grouping:\")\n",
    "print(SpringAJ.describe())"
   ]
  },
  {
   "cell_type": "markdown",
   "metadata": {},
   "source": [
    "**I would most favor the APR-JUN grouping of spring. First I would look at the standard deviation and the lower standard deviation means that the data points are closer together. This of course means that the five numbers will have slightly smaller numbers. Looking at the mean we can see that APR-JUN $\\bar x = 7.68 $ verse MAR-MAY $\\bar x= 7.51$ that the APR-JUN mean is greater. We can also see theat inner quartile range is higher for APR-JUN, hence this grouping produces slightly more preciptation.** "
   ]
  },
  {
   "cell_type": "markdown",
   "metadata": {},
   "source": [
    "**Part E:** Create a density histogram of the September precipitation.  Classify and describe this histogram, including discussion of any skewness, multimodality, or outliers.  Find the data point associated with September, 2013, and recreate your histogram with that value in a different color or otherwise clearly marked."
   ]
  },
  {
   "cell_type": "code",
   "execution_count": 27,
   "metadata": {},
   "outputs": [
    {
     "data": {
      "image/png": "[encoded data removed]",
      "text/plain": [
       "<Figure size 432x288 with 1 Axes>"
      ]
     },
     "metadata": {
      "needs_background": "light"
     },
     "output_type": "display_data"
    },
    {
     "data": {
      "image/png": "[encoded data removed]",
      "text/plain": [
       "<Figure size 432x288 with 1 Axes>"
      ]
     },
     "metadata": {
      "needs_background": "light"
     },
     "output_type": "display_data"
    }
   ],
   "source": [
    "# September code here\n",
    "sept = dfPrecip.loc[:,\"SEP\"]\n",
    "sept2013 = dfPrecip.loc[dfPrecip[\"Year\"]==2013,\"SEP\"]\n",
    "\n",
    "def firstHist(sept): \n",
    "    plt.hist(sept, color = \"blue\",alpha=.2, edgecolor = 'black',bins = int(36),rwidth=10,density=True)\n",
    "    plt.title(\"September\",fontsize=20)\n",
    "    plt.xlabel('Precipitation',fontsize=16)\n",
    "    plt.ylabel('Frequency',fontsize=16)\n",
    "\n",
    "    plt.show()\n",
    "\n",
    "#fig, ax = plt.subplots(figsize=(10,6)) \n",
    "\n",
    "firstHist(sept)\n",
    "plt.hist(sept, color = \"blue\",alpha=.2, edgecolor = 'black',bins = int(36),rwidth=10,density=True)\n",
    "#plt.hist(sept2013, color = \"red\",bins = int(36),rwidth=10 )\n",
    "plt.title(\"September\",fontsize=20)\n",
    "plt.xlabel('Precipitation',fontsize=16)\n",
    "plt.ylabel('Frequency',fontsize=16)\n",
    "plt.axvline(x=float(sept2013),color=\"red\",ymax=.25)\n",
    "plt.show()\n",
    "\n",
    "\n",
    "\n"
   ]
  },
  {
   "cell_type": "markdown",
   "metadata": {},
   "source": [
    "**Looking at the final histogram, I can tell that the data is right skewed which means the median is greater than the mean and outliers will be on the right. Hence the point we found September of 2013 is an outlier. Which means when making any further assessments of the data we need to decide would we want to exclude or include that datapoint, and why?**"
   ]
  },
  {
   "cell_type": "code",
   "execution_count": null,
   "metadata": {},
   "outputs": [],
   "source": []
  }
 ],
 "metadata": {
  "kernelspec": {
   "display_name": "Python 3",
   "language": "python",
   "name": "python3"
  },
  "language_info": {
   "codemirror_mode": {
    "name": "ipython",
    "version": 3
   },
   "file_extension": ".py",
   "mimetype": "text/x-python",
   "name": "python",
   "nbconvert_exporter": "python",
   "pygments_lexer": "ipython3",
   "version": "3.7.4"
  }
 },
 "nbformat": 4,
 "nbformat_minor": 2
}
