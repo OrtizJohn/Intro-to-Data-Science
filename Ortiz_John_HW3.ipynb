{
 "cells": [
  {
   "cell_type": "markdown",
   "metadata": {},
   "source": [
    "#### <a id='top'></a>\n",
    "\n",
    "# Homework 3: Conditional Probability and Random Choice \n",
    "***\n",
    "\n",
    "**Name**: John Ortiz\n",
    "\n",
    "***\n",
    "\n",
    "This assignment is due on Canvas by **MIDNIGHT on Monday September 21**. Your solutions to theoretical questions should be done in Markdown directly below the associated question.  Your solutions to computational questions should include any specified Python code and results as well as written commentary on your conclusions.  Remember that you are encouraged to discuss the problems with your classmates, but **you must write all code and solutions on your own**.\n",
    "\n",
    "**NOTES**: \n",
    "\n",
    "- Any relevant data sets should be available under the **Data** module on Canvas. To make life easier on the graders if they need to run your code, do not change the relative path names here. Instead, move the files around on your computer.\n",
    "- If you're not familiar with typesetting math directly into Markdown then by all means, do your work on paper first and then typeset it later.  Remember that there is a [reference guide](https://math.meta.stackexchange.com/questions/5020/mathjax-basic-tutorial-and-quick-reference) linked on Canvas on writing math in Markdown. **All** of your written commentary, justifications and mathematical work should be in Markdown.\n",
    "- Because you can technically evaluate notebook cells is a non-linear order, it's a good idea to do Kernel $\\rightarrow$ Restart & Run All as a check before submitting your solutions.  That way if we need to run your code you will know that it will work as expected. \n",
    "- It is **bad form** to make your reader interpret numerical output from your code.  If a question asks you to compute some value from the data you should show your code output **AND** write a summary of the results in Markdown directly below your code. \n",
    "- 95 points of this assignment are in problems.  The remaining 5 are for neatness, style, and overall exposition of both code and text.\n",
    "- This probably goes without saying, but... For any question that asks you to calculate something, you **must show all work and justify your answers to receive credit**. Sparse or nonexistent work will receive sparse or nonexistent credit. \n",
    "\n",
    "---\n",
    "**Shortcuts:**  [Problem 1](#p1) | [Problem 2](#p2) | [Problem 3](#p3) |\n",
    "\n",
    "---"
   ]
  },
  {
   "cell_type": "code",
   "execution_count": 1,
   "metadata": {},
   "outputs": [],
   "source": [
    "import pandas as pd\n",
    "import numpy as np\n",
    "import matplotlib.pylab as plt\n",
    "%matplotlib inline"
   ]
  },
  {
   "cell_type": "markdown",
   "metadata": {},
   "source": [
    "***\n",
    "<a/ id='p1'></a>\n",
    "[Back to top](#top)\n",
    "\n",
    "## (25 pts) Problem 1: Theory (Independence)\n",
    "\n",
    "In the popular video game series Pokémon, players conduct battles between their pokémon (creatures). In the main series of games, these battles are [turn-based](#https://en.wikipedia.org/wiki/Turns,_rounds_and_time-keeping_systems_in_games#Turn-based), similar to a game of checkers, chess, or Go.\n",
    "\n",
    "Let's create a new set of rules for a pokémon duel so they don't have to battle until they faint. For our example, we will look at Pikachu vs. Eevee. Pikachu has a higher base Speed, so they will get to move first.\n",
    "\n",
    "* The duel is composed of an unknown number of rounds (same as Pokémon).\n",
    "* Each round is still turn-based, it consists of Pikachu trying to strike Eevee, then Eevee trying to strike Pikachu.\n",
    "* If Pikachu manages to strike Eevee, then Pikachu is awarded a point, and similarly if Eevee manages to strike Pikachu, then Eevee is awarded a point.\n",
    "* If a round ends in a tie, then Pikachu and Eevee proceed to another round. If a round ends with one pokémon scoring a point but the other one does not, then the pokémon who scored a point wins the duel.\n",
    "\n",
    "Let $U$ be the event that \"Picachu wins the duel\", $F$ be the event that \"the duel ends after the first round of strikes\", and $C$ be the event that \"the duel continues after the first round of strikes\".  Suppose that the result of one strike is independent of the other strikes, Picachu successfully lands their strikes with probability $p$ (based on their accuracy and Eevee's evasiveness), and Eevee similarly lands their strikes with probability $q$."
   ]
  },
  {
   "cell_type": "markdown",
   "metadata": {},
   "source": [
    "**Part A**: The duel will continue until Picachu or Eevee wins.  What is the sample space $\\Omega$ for this \"experiment\"?  Represent the outcomes of individual strikes by $H$ for a hit and $M$ for a miss. At the very least, your answer should include all of the events in $\\Omega$ that include one or two rounds.\n",
    "\n",
    "HINT: Remember that Pikachu has the first strike in each round!"
   ]
  },
  {
   "cell_type": "markdown",
   "metadata": {},
   "source": [
    "  **R1  R2 <br>\n",
    "   H H <br>\n",
    "   M M <br>\n",
    "   H M <br>\n",
    "   M H <br>\n",
    "   H H H H <br>\n",
    "   H H H M <br>\n",
    "   H H M H <br>\n",
    "   H H M M <br>\n",
    "   M M H H  <br>\n",
    "   M M H M <br>\n",
    "   M M M H <br>\n",
    "   M M M M <br>\n",
    "   So $\\Omega =  {(H H), (M M),(H M), (M H),(H H H H),(H H H M ),(H H M H),(H H M M),(M M H H),(M M H M),(M M M H),(M M M M)}$**"
   ]
  },
  {
   "cell_type": "markdown",
   "metadata": {},
   "source": [
    "**Part B**: Determine $P(U \\mid F)$ in terms of $p$ and $q$."
   ]
  },
  {
   "cell_type": "markdown",
   "metadata": {},
   "source": [
    "(**$P(U \\mid F)= $ P(Picachu wins duel given Duel Ends after 1 Round) <br>\n",
    "$P(U \\mid F)  $<br>$= \\frac{P(U And F)}{P(F)}  $<br>$=\\frac{P(F \\mid U) P(U)}{P(F)} $<br>\n",
    "$P(U)= p(1-q)$ <br>\n",
    "$P(F)= q(1-p) + p(1-q)$ <br>\n",
    "$P(F \\mid U)= 1$ <br>\n",
    "$P(U \\mid F) = \\frac{p(1-q)}{q(1-p)+p(1-q)} $**"
   ]
  },
  {
   "cell_type": "markdown",
   "metadata": {},
   "source": [
    "**Part C**: Explain why events $C$ and $U$ are independent. "
   ]
  },
  {
   "cell_type": "markdown",
   "metadata": {},
   "source": [
    "**Picachu can not win at the same time as the duel continuing this would be a contradiction. Thus these event have to be independent cause they can exist at the same time.**"
   ]
  },
  {
   "cell_type": "markdown",
   "metadata": {},
   "source": [
    "**Part D**: Use the Law of Total Probability to show that $P(U) = p(1-q) + (2pq - p - q +1) ~P(U \\mid C)$. "
   ]
  },
  {
   "cell_type": "markdown",
   "metadata": {},
   "source": [
    "**$P(U)= p(1-q) + (2pq - p - q +1) ~P(U \\mid C)$ Prove:<br>\n",
    "$P(U)= P(U\\mid F) P(F) + P(U\\mid C) P(C) : $ <br>\n",
    "$P(F)$ = p(1-q)<br>\n",
    "$P(C) = (1-q)(1-p)+ pq$ <br>\n",
    "$P(F)= q(1-p) + p(1-q)$ <br>\n",
    "$P(U\\mid F) =\\frac{p(1-q)}{q(1-p)+p(1-q)} $<br>\n",
    "$P(U\\mid C) = P(U|C)$ <br>\n",
    "$P(U\\mid F)*P(F)  = p(1-q)$ <br> \n",
    "$P(U)=  p(1-q) + (1-q)(1-p) +pq $ $P(U\\mid C)$<br>\n",
    "$ =  p(1-q)+ ((1-q-p+qp)+ pq)$ $ P(U\\mid C)$<br>\n",
    "$= p(1-q) + (2pq - p - q +1) ~P(U \\mid C)$ QED**"
   ]
  },
  {
   "cell_type": "markdown",
   "metadata": {},
   "source": [
    "**Part E**: Use the fact from **Part B** that $P(U \\mid C) = P(U)$ to determine $P(U)$ in terms of $p$ and $q$."
   ]
  },
  {
   "cell_type": "markdown",
   "metadata": {},
   "source": [
    "**$P(U)=p(1-q) + (2pq - p - q +1) ~P(U \\mid C) $ ,since $ P(U \\mid C)= $ all possiblite up until the end of round 2 and  $P(U \\mid C) = P(U)$<br>\n",
    "= $P(U)=p(1-q) + (2pq - p - q +1) ~P(U) = P(U) + P(C) P(U)= P(U)(1+P(C) )$\n",
    "I cant figure the rest of this one**"
   ]
  },
  {
   "cell_type": "markdown",
   "metadata": {},
   "source": [
    "**Part F**: Explain why the answers to **Part B** and **Part E** are the same. "
   ]
  },
  {
   "cell_type": "markdown",
   "metadata": {},
   "source": [
    "**Could figure out F  **"
   ]
  },
  {
   "cell_type": "markdown",
   "metadata": {},
   "source": [
    "**Part G**: Explain the significance of the solution technique for $P(U)$ outlined in **Part D** and **Part E**.  Why did we go this route instead of computing $P(U)$ directly?  Can we always use such techniques?  What assumption did we need to make in order to use this solution approach?"
   ]
  },
  {
   "cell_type": "markdown",
   "metadata": {},
   "source": [
    "**Could not figure out G**"
   ]
  },
  {
   "cell_type": "markdown",
   "metadata": {},
   "source": [
    "[Back to top](#top)\n",
    "<a id='p2'></a>\n",
    "\n",
    "## (30 pts) Problem 2: Computation (Joker Poker Hands)\n",
    "***\n"
   ]
  },
  {
   "cell_type": "markdown",
   "metadata": {},
   "source": [
    "A common example for discrete counting and probability questions are poker hands.  Consider using a standard 52-card playing deck, with card faces `[A,2,3,4,5,6,7,8,9,10,J,Q,K]` across the standard 4 suits: `[C,D,H,S]`.  For the markdown portions of this problem, you may leave your answer in terms of a ratio of products, but you should simplify away any combinatoric notation such as ${n \\choose k}$ or $P(n,k)$.\n",
    "\n",
    "**Part A:**\n",
    "\n",
    "Suppose we draw 5 cards at random from the deck.  What is the probability that we have a \"3 of a kind:\" a hand with 3 copies of one face card and the other two cards unmatched?"
   ]
  },
  {
   "cell_type": "markdown",
   "metadata": {},
   "source": [
    "**P(\"3 of a kind\") = $\\frac{picking3OfKindFace * suitChoice * other cards}{AllSelectionsOfFiveCards}$<br>\n",
    "P(\"3 of a kind\") = $\\frac{C(13,1)*C(4,3)*C(48,1)*C(47,1)}{C(52,5)}= \\frac{13*\\frac{4!}{1!*3!}*48*47}{\\frac{52!}{5!*47!}}$<br>\n",
    "= $\\frac{13*4*48*47}{\\frac{52*51*50*49*48}{5!}} = \\frac{(5! * 4 * 13 * 48 * 47)}{(52*51*50*49*48)}= .045$**\n"
   ]
  },
  {
   "cell_type": "markdown",
   "metadata": {},
   "source": [
    "**Part B:**\n",
    "\n",
    "Suppose we add a single \"Joker\" card to the deck.  The Joker may serve as a copy of any card in the deck, including one already in our hand.  \n",
    "\n",
    "Suppose we draw 5 cards at random from the deck.  What is the probability that we now have \"3 of a kind?\"  This should now include hands with 2 copies of one face and a joker (and the other 2 as non-paired cards)."
   ]
  },
  {
   "cell_type": "markdown",
   "metadata": {},
   "source": [
    "**P(\"3 of a kind\") = $\\frac{picking3OfKindFace * facesOfThree * 2 other cards}{AllSelectionsOfFiveCards}$<br>\n",
    "P(\"3 of a kind\") = $\\frac{C(13,1)*C(5,3)*C(49,1)*C(48,1)}{C(53,5)}= \\frac{13*\\frac{5!}{2!*3!}*49*48}{\\frac{53!}{5!*48!}}$<br>\n",
    "= $\\frac{13*10*48*47}{\\frac{53*52*51*50*49}{5!}} = \\frac{(5! * 10 * 13 * 48 * 47)}{(53*52*51*50*49)}= .107$<br> \n",
    "Sanity Check: Yes, we would expect the probability of getting three of a kind more likely with adding a Joker.**"
   ]
  },
  {
   "cell_type": "markdown",
   "metadata": {},
   "source": [
    "**Part C:**\n",
    "\n",
    "Write a simulation that draws a hand of 5 cards from a standard 52-card deck.  Repeat this simulation 10000 times, and report how many \"3 of a kind\" hands were observed.  Verify that the result is consistent with your answer to part A."
   ]
  },
  {
   "cell_type": "code",
   "execution_count": null,
   "metadata": {},
   "outputs": [],
   "source": [
    "faceValue = np.array(range(1,14,1))\n",
    "suitValue = np.array([\"h\",\"s\",\"c\",\"d\"])\n",
    "nSamp = 10000\n",
    "cards = []\n",
    "for i in suitValue:\n",
    "    for j in faceValue:\n",
    "        temp = str(j)+str(\" \")+ str(i)\n",
    "        #print(temp)\n",
    "        cards.append(str(temp))\n",
    "        #print(\"count:\" + str(count))\n",
    "        #print(cards[count])\n",
    "        #count+=1\n",
    "\n",
    "#print(cards)\n",
    "\n",
    "\n",
    "#helper to return only face values\n",
    "def getFace(string):\n",
    "    x=string.split(' ')\n",
    "    return x[0]\n",
    "#run 10000 times\n",
    "card_D1=[]\n",
    "card_D2=[]\n",
    "card_D3=[]\n",
    "card_D4=[]\n",
    "card_D5=[]\n",
    "for i in range(0,nSamp):\n",
    "    hand =np.random.choice(cards,size=5)\n",
    "    f1= getFace(hand[0])\n",
    "    f2= getFace(hand[1])\n",
    "    f3= getFace(hand[2])\n",
    "    f4= getFace(hand[3])\n",
    "    f5= getFace(hand[4])\n",
    "    card_D1.append(f1)\n",
    "    card_D2.append(f2)\n",
    "    card_D3.append(f3)\n",
    "    card_D4.append(f4)\n",
    "    card_D5.append(f5)\n",
    "    \n",
    "df = pd.DataFrame({\"card_D1\": card_D1}) \n",
    "df[\"card_D2\"]= card_D2\n",
    "df[\"card_D3\"]= card_D3\n",
    "df[\"card_D4\"]= card_D4\n",
    "df[\"card_D5\"]= card_D5\n",
    "\n",
    "\n",
    "def getProb(df,nsamp):\n",
    "    import itertools\n",
    "    test = np.array([\"card_D1\",\"card_D2\",\"card_D3\",\"card_D4\",\"card_D5\"])\n",
    "    testL = list(itertools.combinations(test,3))\n",
    "    print(\"All Possible Combinations of Three of Kind: \" +str(testL))\n",
    "    count = 0\n",
    "    for i in range(0,len(testL)):\n",
    "        temp = np.array(testL[i])\n",
    "        count = count + len(df.loc[(df[temp[0]]==df[temp[1]]) & (df[temp[0]]==df[temp[2]])])\n",
    "\n",
    "    print(\"Number of three of a kinds: \"+str(count))\n",
    "    return count/nsamp\n",
    "\n",
    "three_of_kind_prob = getProb(df,nSamp)\n",
    "df.head(1000)\n",
    "print(three_of_kind_prob)\n",
    "\n"
   ]
  },
  {
   "cell_type": "markdown",
   "metadata": {},
   "source": [
    "**Part D:**\n",
    "\n",
    "Write a simulation that draws a hand of 5 cards from a standard 52-card deck where one \"Joker\" card has been added.  Repeat this simulation 10000 times, and report how many \"3 of a kind\" hands were observed.   Verify that the result is consistent with your answer to part B."
   ]
  },
  {
   "cell_type": "code",
   "execution_count": 7,
   "metadata": {},
   "outputs": [
    {
     "name": "stdout",
     "output_type": "stream",
     "text": [
      "All Possible Combinations of Three of Kind: [('card_D1', 'card_D2', 'card_D3'), ('card_D1', 'card_D2', 'card_D4'), ('card_D1', 'card_D2', 'card_D5'), ('card_D1', 'card_D3', 'card_D4'), ('card_D1', 'card_D3', 'card_D5'), ('card_D1', 'card_D4', 'card_D5'), ('card_D2', 'card_D3', 'card_D4'), ('card_D2', 'card_D3', 'card_D5'), ('card_D2', 'card_D4', 'card_D5'), ('card_D3', 'card_D4', 'card_D5')]\n",
      "Number of three of a kinds: 927\n",
      "0.0927\n"
     ]
    }
   ],
   "source": [
    "faceValue = np.array(range(1,14,1))\n",
    "suitValue = np.array([\"h\",\"s\",\"c\",\"d\"])\n",
    "nSamp = 10000\n",
    "cards = []\n",
    "for i in suitValue:\n",
    "    for j in faceValue:\n",
    "        temp = str(j)+str(\" \")+ str(i)\n",
    "        #print(temp)\n",
    "        cards.append(str(temp))\n",
    "        #print(\"count:\" + str(count))\n",
    "        #print(cards[count])\n",
    "        #count+=1\n",
    "\n",
    "#add Joker\n",
    "cards.append(\"15 J\")\n",
    "\n",
    "#helper to return only face values\n",
    "def getFace(string):\n",
    "    x=string.split(' ')\n",
    "    return x[0]\n",
    "#run 10000 times\n",
    "card_D1=[]\n",
    "card_D2=[]\n",
    "card_D3=[]\n",
    "card_D4=[]\n",
    "card_D5=[]\n",
    "for i in range(0,nSamp):\n",
    "    hand =np.random.choice(cards,size=5)\n",
    "    f1= getFace(hand[0])\n",
    "    f2= getFace(hand[1])\n",
    "    f3= getFace(hand[2])\n",
    "    f4= getFace(hand[3])\n",
    "    f5= getFace(hand[4])\n",
    "    card_D1.append(f1)\n",
    "    card_D2.append(f2)\n",
    "    card_D3.append(f3)\n",
    "    card_D4.append(f4)\n",
    "    card_D5.append(f5)\n",
    "    \n",
    "df = pd.DataFrame({\"card_D1\": card_D1}) \n",
    "df[\"card_D2\"]= card_D2\n",
    "df[\"card_D3\"]= card_D3\n",
    "df[\"card_D4\"]= card_D4\n",
    "df[\"card_D5\"]= card_D5\n",
    "\n",
    "\n",
    "def getProb(df,nsamp):\n",
    "    import itertools\n",
    "    test = np.array([\"card_D1\",\"card_D2\",\"card_D3\",\"card_D4\",\"card_D5\"])\n",
    "    testL = list(itertools.combinations(test,3))\n",
    "    print(\"All Possible Combinations of Three of Kind: \" +str(testL))\n",
    "    count = 0\n",
    "    #orig 3 of kind\n",
    "    for i in range(0,len(testL)):\n",
    "        temp = np.array(testL[i])\n",
    "        count = count + len(df.loc[(df[temp[0]]==df[temp[1]]) & (df[temp[0]]==df[temp[2]])])\n",
    "    #add with 2 of kinds and joker\n",
    "        \n",
    "    count = count + len(df.loc[ ((df[\"card_D1\"]==\"15\")&(df[\"card_D2\"]==df[\"card_D3\"]))  \n",
    "                                 |  ((df[\"card_D1\"]==\"15\")&(df[\"card_D2\"]==df[\"card_D4\"]))\n",
    "                                 |  ((df[\"card_D1\"]==\"15\")&(df[\"card_D2\"]==df[\"card_D5\"])) \n",
    "                                 |  ((df[\"card_D1\"]==\"15\")&(df[\"card_D3\"]==df[\"card_D4\"]))\n",
    "                                 |  ((df[\"card_D1\"]==\"15\")&(df[\"card_D3\"]==df[\"card_D5\"]))\n",
    "                                 |  ((df[\"card_D1\"]==\"15\")&(df[\"card_D4\"]==df[\"card_D5\"])) ])\n",
    "    count = count + len(df.loc[ ((df[\"card_D2\"]==\"15\")&(df[\"card_D1\"]==df[\"card_D3\"]))  \n",
    "                                 |  ((df[\"card_D2\"]==\"15\")&(df[\"card_D1\"]==df[\"card_D4\"]))\n",
    "                                 |  ((df[\"card_D2\"]==\"15\")&(df[\"card_D1\"]==df[\"card_D5\"])) \n",
    "                                 |  ((df[\"card_D2\"]==\"15\")&(df[\"card_D3\"]==df[\"card_D4\"]))\n",
    "                                 |  ((df[\"card_D2\"]==\"15\")&(df[\"card_D3\"]==df[\"card_D5\"]))\n",
    "                                 |  ((df[\"card_D2\"]==\"15\")&(df[\"card_D4\"]==df[\"card_D5\"])) ])\n",
    "    count = count + len(df.loc[ ((df[\"card_D3\"]==\"15\")&(df[\"card_D1\"]==df[\"card_D2\"]))  \n",
    "                                 |  ((df[\"card_D3\"]==\"15\")&(df[\"card_D1\"]==df[\"card_D4\"]))\n",
    "                                 |  ((df[\"card_D3\"]==\"15\")&(df[\"card_D1\"]==df[\"card_D5\"])) \n",
    "                                 |  ((df[\"card_D3\"]==\"15\")&(df[\"card_D2\"]==df[\"card_D4\"]))\n",
    "                                 |  ((df[\"card_D3\"]==\"15\")&(df[\"card_D2\"]==df[\"card_D5\"]))\n",
    "                                 |  ((df[\"card_D3\"]==\"15\")&(df[\"card_D4\"]==df[\"card_D5\"])) ])\n",
    "    count = count + len(df.loc[ ((df[\"card_D4\"]==\"15\")&(df[\"card_D1\"]==df[\"card_D2\"]))  \n",
    "                                 |  ((df[\"card_D4\"]==\"15\")&(df[\"card_D1\"]==df[\"card_D3\"]))\n",
    "                                 |  ((df[\"card_D4\"]==\"15\")&(df[\"card_D1\"]==df[\"card_D5\"])) \n",
    "                                 |  ((df[\"card_D4\"]==\"15\")&(df[\"card_D2\"]==df[\"card_D3\"]))\n",
    "                                 |  ((df[\"card_D4\"]==\"15\")&(df[\"card_D2\"]==df[\"card_D5\"]))\n",
    "                                 |  ((df[\"card_D4\"]==\"15\")&(df[\"card_D3\"]==df[\"card_D5\"])) ])\n",
    "    count = count + len(df.loc[ ((df[\"card_D5\"]==\"15\")&(df[\"card_D1\"]==df[\"card_D2\"]))  \n",
    "                                 |  ((df[\"card_D5\"]==\"15\")&(df[\"card_D1\"]==df[\"card_D3\"]))\n",
    "                                 |  ((df[\"card_D5\"]==\"15\")&(df[\"card_D1\"]==df[\"card_D4\"])) \n",
    "                                 |  ((df[\"card_D5\"]==\"15\")&(df[\"card_D2\"]==df[\"card_D3\"]))\n",
    "                                 |  ((df[\"card_D5\"]==\"15\")&(df[\"card_D2\"]==df[\"card_D4\"]))\n",
    "                                 |  ((df[\"card_D5\"]==\"15\")&(df[\"card_D3\"]==df[\"card_D4\"])) ])\n",
    "    \n",
    "    print(\"Number of three of a kinds: \"+str(count))\n",
    "    return count/nsamp\n",
    "\n",
    "\n",
    "\n",
    "\n",
    "#print(\"The three of a kind probability is: \" + str(three_of_kind_prob))\n",
    "\n",
    "three_of_kind_prob = getProb(df,nSamp)\n",
    "#df.head(15)\n",
    "print(three_of_kind_prob)\n",
    "\n"
   ]
  },
  {
   "cell_type": "markdown",
   "metadata": {},
   "source": [
    "**Part E:**\n",
    "\n",
    "Write a simulation that draws a hand of 5 cards from a standard 52-card deck with four \"Joker\" cards added.  Repeat this simulation 10000 times, and report how many \"3 of a kind\" hands were observed. (NB: 3 unpaired cards and 2 Jokers is the new case of \"3 of a kind\".)"
   ]
  },
  {
   "cell_type": "code",
   "execution_count": 4,
   "metadata": {},
   "outputs": [
    {
     "name": "stdout",
     "output_type": "stream",
     "text": [
      "All Possible Combinations of Three of Kind: [('card_D1', 'card_D2', 'card_D3'), ('card_D1', 'card_D2', 'card_D4'), ('card_D1', 'card_D2', 'card_D5'), ('card_D1', 'card_D3', 'card_D4'), ('card_D1', 'card_D3', 'card_D5'), ('card_D1', 'card_D4', 'card_D5'), ('card_D2', 'card_D3', 'card_D4'), ('card_D2', 'card_D3', 'card_D5'), ('card_D2', 'card_D4', 'card_D5'), ('card_D3', 'card_D4', 'card_D5')]\n",
      "Number of three of a kinds: 697\n",
      "0.0697\n"
     ]
    }
   ],
   "source": [
    "faceValue = np.array(range(1,14,1))\n",
    "suitValue = np.array([\"h\",\"s\",\"c\",\"d\"])\n",
    "nSamp = 10000\n",
    "cards = []\n",
    "for i in suitValue:\n",
    "    for j in faceValue:\n",
    "        temp = str(j)+str(\" \")+ str(i)\n",
    "        #print(temp)\n",
    "        cards.append(str(temp))\n",
    "        #print(\"count:\" + str(count))\n",
    "        #print(cards[count])\n",
    "        #count+=1\n",
    "\n",
    "#add 2 Jokers\n",
    "cards.append(\"15 J\")\n",
    "cards.append(\"15 J\")\n",
    "#helper to return only face values\n",
    "def getFace(string):\n",
    "    x=string.split(' ')\n",
    "    return x[0]\n",
    "#run 10000 times\n",
    "card_D1=[]\n",
    "card_D2=[]\n",
    "card_D3=[]\n",
    "card_D4=[]\n",
    "card_D5=[]\n",
    "for i in range(0,nSamp):\n",
    "    hand =np.random.choice(cards,size=5)\n",
    "    f1= getFace(hand[0])\n",
    "    f2= getFace(hand[1])\n",
    "    f3= getFace(hand[2])\n",
    "    f4= getFace(hand[3])\n",
    "    f5= getFace(hand[4])\n",
    "    card_D1.append(f1)\n",
    "    card_D2.append(f2)\n",
    "    card_D3.append(f3)\n",
    "    card_D4.append(f4)\n",
    "    card_D5.append(f5)\n",
    "    \n",
    "df = pd.DataFrame({\"card_D1\": card_D1}) \n",
    "df[\"card_D2\"]= card_D2\n",
    "df[\"card_D3\"]= card_D3\n",
    "df[\"card_D4\"]= card_D4\n",
    "df[\"card_D5\"]= card_D5\n",
    "\n",
    "\n",
    "#test= len(df.loc[ (df[\"card_D1\"]== df[\"card_D2\"]) & (df[\"card_D2\"]==df[\"card_D3\"]) & (df[\"card_D3\"]!=df[\"card_D4\"])& (df[\"card_D3\"]!=df[\"card_D5\"])])\n",
    "\n",
    "# threeOfKindProb /nsamp\n",
    "#function that adds face and suit called cardD1 ..\n",
    "def getProb(df,nsamp):\n",
    "    import itertools\n",
    "    test = np.array([\"card_D1\",\"card_D2\",\"card_D3\",\"card_D4\",\"card_D5\"])\n",
    "    testL = list(itertools.combinations(test,3))\n",
    "    print(\"All Possible Combinations of Three of Kind: \" +str(testL))\n",
    "    count = 0\n",
    "    #orig 3 of kind\n",
    "    for i in range(0,len(testL)):\n",
    "        temp = np.array(testL[i])\n",
    "        count = count + len(df.loc[(df[temp[0]]==df[temp[1]]) & (df[temp[0]]==df[temp[2]])])\n",
    "    #add with 2 jokers and 1 other\n",
    "    \n",
    "        \n",
    "    count = count + len(df.loc[ ( (df[\"card_D1\"]==\"15\") & (df[\"card_D2\"]==\"15\") ) ])\n",
    "    count = count + len(df.loc[ ( (df[\"card_D1\"] ==\"15\")  &   (df[\"card_D3\"] ==\"15\"))])\n",
    "    count = count + len(df.loc[ ( (df[\"card_D1\"] ==\"15\")  &   (df[\"card_D4\"] ==\"15\"))])  \n",
    "    count = count + len(df.loc[ ( (df[\"card_D1\"] ==\"15\")  &   (df[\"card_D5\"] ==\"15\"))])\n",
    "    count = count + len(df.loc[ ( (df[\"card_D2\"] ==\"15\")  &   (df[\"card_D3\"] ==\"15\"))])\n",
    "    count = count + len(df.loc[ ( (df[\"card_D2\"] ==\"15\")  &   (df[\"card_D4\"] ==\"15\"))])\n",
    "    count = count + len(df.loc[ ( (df[\"card_D2\"] ==\"15\")  &   (df[\"card_D5\"] ==\"15\"))])\n",
    "    count = count + len(df.loc[ ( (df[\"card_D3\"] ==\"15\")  &   (df[\"card_D4\"] ==\"15\"))])\n",
    "    count = count + len(df.loc[ ( (df[\"card_D3\"] ==\"15\")  &   (df[\"card_D5\"] ==\"15\"))])\n",
    "    count = count + len(df.loc[ ( (df[\"card_D4\"] ==\"15\")  &   (df[\"card_D5\"] ==\"15\"))])\n",
    "        #count = count + len(df.loc[(df[temp[0]]==\"15\") & (df[temp[1]]==df[temp[2]])])\n",
    "    \n",
    "    \n",
    "    \n",
    "    print(\"Number of three of a kinds: \"+str(count))\n",
    "    return count/nsamp\n",
    "\n",
    "#three_of_kind_prob= len(df.loc[(df[\"card_D1\"]==df[\"card_D2\"]) & (df[\"card_D1\"]==df[\"card_D3\"])])\n",
    "\n",
    "\n",
    "#print(\"The three of a kind probability is: \" + str(three_of_kind_prob))\n",
    "\n",
    "three_of_kind_prob = getProb(df,nSamp)\n",
    "#df.head(15)\n",
    "print(three_of_kind_prob)\n",
    "\n"
   ]
  },
  {
   "cell_type": "markdown",
   "metadata": {},
   "source": [
    "**I just wanted to say I know my simulations are not pinpoint. Also know some of my math in part a and b is off. I tried:)**"
   ]
  },
  {
   "attachments": {
    "image.png": {
     "image/png": "[encoded data removed]"
    }
   },
   "cell_type": "markdown",
   "metadata": {},
   "source": [
    "[Back to top](#top)\n",
    "\n",
    "<a id='p3'></a>\n",
    "\n",
    "## (40 pts) Problem 3: Simulation\n",
    "*** \n",
    "\n",
    "In this problem you will write some code to simulate the movement of budding Data Scientist Skyler - founder of infamous Skynet - as they navigate their way through the Engineering Center Lobby between classes.  Skyler has 10 minutes to navigate the labryinthine space below:\n",
    "\n",
    "![image.png](attachment:image.png)\n",
    "\n",
    "Skyler starts at the bottom left (SW) corner, a square we will refer to as $(0,0)$, and is trying to reach their next class in the top right (or NE) corner, a square at (4,6) using a standard cartesian system.\n",
    "\n",
    "Skyler, unfortunately, is very disoriented and their movement is partly random.  1/3 of the time Skyler will try to walk North; 1/3 of the time Skyler will try to walk East, and the rest of the time Skyler will split evenly between South and West.\n",
    "\n",
    "Your goal is to figure out what the probability is that Skyler makes it to (4,6) before running out of time, with the following hazards:\n",
    "\n",
    " - Skyler walks at a standard rate of 10 seconds per tile.  If Skyler walks into one of the dark-shaded walls or pillars, they remain where they started, but it still takes 10 seconds.\n",
    "\n",
    " - Someone spilled a foul-smelling energy drink at (2,1).  If Skyler moves into the tile in (2,1), they are completely grossed out.  They move back to the start at (0,0) and spend a little time cleaning their shoes, losing 60 additional seconds beyond the time to originally move into (2,1).\n",
    " \n",
    " - Skyler's data science professor is drinking coffee at (2,3), and Skyler hasn't turned in their homework for a week and a half.  If Skyler walks to that tile, they suffer through some tedious conversation and then shuffle *backwards* from where they came by an extra tile, so if they encountered the professor in a movement from (1,3) to (2,3) they would recoil back to (0,3).  This entire process takes 90 seconds, including all movement.\n",
    " \n",
    " - Skyler's best friend and coding collaborator is at (0,6).  Should Skyler walk there, they will engage in a lengthy conversation, taking 120 seconds, including all movement.\n",
    "\n",
    "\n",
    "\n",
    "<br>\n",
    "\n",
    "**Part A**: Complete the function sky_step below. The function should simulate one step of Skyler's.  It should take as arguments the Skyler's current location on the board as well as the the time elapses, and return Skyler's new location and time elapses after the movement has completed. Note that if Skyler runs out of time, you should return 310 and not any additional wasted time."
   ]
  },
  {
   "cell_type": "code",
   "execution_count": 5,
   "metadata": {},
   "outputs": [],
   "source": [
    "def checkLoc(prev_loc, location,time,direction):\n",
    "    if location[0]<0 or location[1]<0:\n",
    "        time = time + 10\n",
    "        #print(\"OutofBounds1\")\n",
    "        #print(prev_loc)\n",
    "        return prev_loc, time #returns the previous location for skyler to still be at \n",
    "    elif location[1]>6 or location[0]>4:\n",
    "        time = time + 10\n",
    "        #print(\"OutofBounds2\")\n",
    "        return prev_loc, time #returns the previous location for skyler to still be at \n",
    "    elif location[0]==1 and location[1]==1:        #(1,1) -gray\n",
    "        time = time + 10\n",
    "        #print(\"Gray\")\n",
    "        return prev_loc, time \n",
    "    elif location[0]==2 and location[1]==2:          #(2,2) -gray\n",
    "        time = time + 10\n",
    "        #print(\"Gray\")\n",
    "        return prev_loc, time \n",
    "    elif location[0]==0 and location[1]==5:        #(0,5) -gray\n",
    "        time = time + 10\n",
    "        #print(\"Gray\")\n",
    "        return prev_loc, time \n",
    "    elif location[0]==4 and location[1]==5:          #(4,5) -gray\n",
    "        time = time + 10\n",
    "        #print(\"Gray\")\n",
    "        return prev_loc, time \n",
    "    elif location[0]==2 and location[1]==1:          #(2,1) -foul smelling energy drink\n",
    "        time = time + 10+60\n",
    "        #print(\"Energy Drink\")\n",
    "        temp = [0,0]\n",
    "        return temp, time \n",
    "    elif location[0]==2 and location[1]==3:          #(2,3) -data science professor\n",
    "        time = time + 90\n",
    "        #print(\"Professor\")\n",
    "        if(direction == \"North\") or (direction ==\"South\"):\n",
    "            prev_loc[1]=prev_loc[1]-1\n",
    "        elif(direction == \"West\") or (direction ==\"East\"):\n",
    "            prev_loc[0]=prev_loc[0]-1\n",
    "        return prev_loc, time \n",
    "    elif location[0]==2 and location[1]==1:          #(0,6) -friend\n",
    "        time = time + 120\n",
    "        #print(\"frined\")\n",
    "        return location, time \n",
    "    elif location[0]==4 and location[1]==6: \n",
    "        #print(\"Class\")#(4,6) -class\n",
    "        time = time + 10\n",
    "        return location, time \n",
    "    else:\n",
    "        time = time +10\n",
    "        return location,time \n",
    "\n",
    "    \n",
    "def madeIt (location):\n",
    "    if (location[0]==4 and location[1]==6):\n",
    "        return True\n",
    "    else:\n",
    "        return False    \n",
    "    \n",
    "    \n",
    "def sky_step(location, time):\n",
    "    if (madeIt(location)):\n",
    "        #print(\"Made it!!!\")\n",
    "        return location, time\n",
    "    next_loc =location.copy() #temp copy of orig array\n",
    "    prev_loc= location.copy() #instantiates a separate copy of the array at different memory location\n",
    "    #next_loc = np.array(temp)\n",
    "    #prev_loc = np.array([])\n",
    "    #prev_loc = location #saves prev location\n",
    "    #print(\"Prevous Location\")\n",
    "    #print(prev_loc)\n",
    "    direction = np.array([\"North\",\"South\",\"East\",\"West\"]) #p=[1/3,(1/3)/2,1/3,(1/3)/2]\n",
    "    d1= np.random.choice(direction,p=[1/3,(1/3)/2,1/3,(1/3)/2]) #random choice\n",
    "   \n",
    "    if(d1 == \"North\"):\n",
    "        next_loc[1]=next_loc[1]+1\n",
    "    elif (d1 ==\"South\")    :\n",
    "        next_loc[1]=next_loc[1]-1\n",
    "    elif(d1 == \"West\"):\n",
    "        next_loc[0]=next_loc[0]-1\n",
    "    elif (d1 ==\"East\"):\n",
    "        next_loc[0]=next_loc[0]+1\n",
    "        \n",
    "    \n",
    "    \n",
    "    \n",
    "    locationTest,time1 = checkLoc(prev_loc, next_loc,time,d1)\n",
    "    return locationTest,time1\n",
    "    #print(\"this is my loc:\")\n",
    "    #print(locationTest)\n",
    "    #print(\"this is my time:\")\n",
    "    #print(time1)\n",
    "    #return locationTest,time1\n"
   ]
  },
  {
   "cell_type": "markdown",
   "metadata": {},
   "source": [
    "**Part B**: Use your function from **Part A** to simulate at least 10000 of Skyler's 10-minute trips through the Engineering Lobby and make a frequency histogram of the Skyler's time elapsed at the end of your simulation (including instances where they did not make it in time)."
   ]
  },
  {
   "cell_type": "code",
   "execution_count": null,
   "metadata": {},
   "outputs": [],
   "source": [
    "#Simulation for Part B\n",
    "\n",
    "def run():\n",
    "    location =[0,0]\n",
    "    time =0 \n",
    "    #count = 1\n",
    "    #locL = []\n",
    "    #timeL = []\n",
    "    while(time<600):\n",
    "        if (location[0]==4 & location[1]==6):\n",
    "            print(\"Made it!!!\")\n",
    "            return location, time\n",
    "        location, time = sky_step(location, time)\n",
    "        #locL.append(location)\n",
    "        #timeL.append(time)\n",
    "        \n",
    "    #print(locL)\n",
    "    #print(\"\")\n",
    "    #print(timeL)\n",
    "    #print(\"\")\n",
    "    #print(\"\")\n",
    "\n",
    "    if(time>=600): \n",
    "        time = 610\n",
    "        return(location, time)\n",
    "    else:\n",
    "        return location, time\n",
    "#location, time = run()\n",
    "#print(location)\n",
    "#print(time)\n",
    "\n",
    "\n",
    "nsamp=10000#can put in 10000 but i think the way i wrote makes the machine take to long\n",
    "timeFrame = []\n",
    "onTimeCount = 0\n",
    "for i in range (0,nsamp):\n",
    "    #print(\"Hi\")\n",
    "    location, time = run()\n",
    "    timeFrame.append(time)\n",
    "    #if(time<=600):\n",
    "        #onTimeCount = onTimeCount +1\n",
    "df = pd.DataFrame({\"timeFrame\": timeFrame})    \n",
    "#df.head()    \n",
    "#len(df.loc[ ( (df[\"card_D4\"] ==\"15\")  &   (df[\"card_D5\"] ==\"15\"))])    \n",
    "#print(timeFrame)        \n",
    "#print(count1)\n",
    "\n",
    "\n",
    "    \n",
    "\n",
    "    \n",
    "#direction = np.array([\"North\",\"South\",\"East\",\"West\"]) #p=[1/3,(1/3)/2,1/3,(1/3)/2]\n",
    "#m1= np.random.choice(direction,p=[1/3,(1/3)/2,1/3,(1/3)/2], size = nsamp) #random choice     \n",
    "#x1 = np.random.choice([0], size = nsamp)\n",
    "#y2 = np.random.choice([0], size = nsamp)\n",
    "#df = pd.DataFrame({\"x1\": x1})    \n",
    "#df[\"y1\"]= y1\n",
    "#test = np.array([x1,x2])\n",
    "#print(test)\n",
    "\n",
    "#df[\"x3\"],df[\"y3\"],df[\"time\"]= df.apply(sky_step, axis=1,time =0,result_type='expand') \n",
    "#print(\"end loc: \")\n",
    "#print(location1)\n",
    "#df[\"x2\"]= location1[0]\n",
    "#df[\"y2\"]= location1[1]\n",
    "#df.head()\n",
    "#df[\"m1_loc\"],df[\"m1_time\"]= "
   ]
  },
  {
   "cell_type": "markdown",
   "metadata": {},
   "source": [
    "**So left nsamp= 10000 but i think the way i wrote the code makes the machine take to long or (more likely) I have bug. And it gets stuck loading. So below I wrote it c,d as if it were going to work.** "
   ]
  },
  {
   "cell_type": "code",
   "execution_count": null,
   "metadata": {},
   "outputs": [],
   "source": [
    "#Frequency histogram\n",
    "plt.hist(df[\"timeFrame\"], color = \"blue\", edgecolor = 'black',rwidth=10)"
   ]
  },
  {
   "cell_type": "markdown",
   "metadata": {},
   "source": [
    "**Part C**: Use your code from **Part A** to estimate the probability that Skyler makes it to class on time."
   ]
  },
  {
   "cell_type": "code",
   "execution_count": null,
   "metadata": {},
   "outputs": [],
   "source": [
    "#Estimation of probability of being on time\n",
    "probOfMakingIt = OnTimeCount/len(timeFrame)\n",
    "print(\"The probability that Skyler makes it to class on time: \"+ str(probOfMakingIt))"
   ]
  },
  {
   "cell_type": "markdown",
   "metadata": {},
   "source": [
    "**Part D**: Use your code from **Part A** to estimate the probability that Skyler makes it to class on time _given_ that they talked to their Data Science professor.  Is Skyler more or less likely to make it on time if they talk to their Data Science Professor?"
   ]
  },
  {
   "cell_type": "markdown",
   "metadata": {},
   "source": [
    "**Probably gonna use my drop on this hw**"
   ]
  },
  {
   "cell_type": "code",
   "execution_count": null,
   "metadata": {},
   "outputs": [],
   "source": [
    "#Estimate probability of being on time given talking to their DS professor"
   ]
  },
  {
   "cell_type": "markdown",
   "metadata": {},
   "source": [
    "**Part E**: Use your code from **Part A** to estimate the probability (either directly or using Bayes' Rule) that Skyler talked to their Data Science professor, given that Skyler made it to class on time."
   ]
  },
  {
   "cell_type": "code",
   "execution_count": null,
   "metadata": {},
   "outputs": [],
   "source": [
    "#Estimate probability of talking to their DS professor given being on time  "
   ]
  },
  {
   "cell_type": "markdown",
   "metadata": {},
   "source": [
    "**Typeset your analysis for Problem 3E in this cell or cells.**"
   ]
  },
  {
   "cell_type": "markdown",
   "metadata": {},
   "source": []
  }
 ],
 "metadata": {
  "kernelspec": {
   "display_name": "Python 3",
   "language": "python",
   "name": "python3"
  },
  "language_info": {
   "codemirror_mode": {
    "name": "ipython",
    "version": 3
   },
   "file_extension": ".py",
   "mimetype": "text/x-python",
   "name": "python",
   "nbconvert_exporter": "python",
   "pygments_lexer": "ipython3",
   "version": "3.7.4"
  }
 },
 "nbformat": 4,
 "nbformat_minor": 2
}
