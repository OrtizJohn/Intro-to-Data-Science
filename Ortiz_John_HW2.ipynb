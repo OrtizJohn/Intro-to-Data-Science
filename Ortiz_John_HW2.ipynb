{
 "cells": [
  {
   "cell_type": "markdown",
   "metadata": {},
   "source": [
    "#### <a id='top'></a>\n",
    "\n",
    "# Homework 2: Data Visualization and Probability Analysis \n",
    "***\n",
    "\n",
    "**Name**: John Ortiz\n",
    "\n",
    "***\n",
    "\n",
    "This assignment is due on Canvas by **MIDNIGHT on Monday September 14**. Your solutions to theoretical questions should be done in Markdown directly below the associated question.  Your solutions to computational questions should include any specified Python code and results as well as written commentary on your conclusions.  Remember that you are encouraged to discuss the problems with your classmates, but **you must write all code and solutions on your own**.\n",
    "\n",
    "**NOTES**: \n",
    "\n",
    "- Any relevant data sets should be available under the **Data** module on Canvas. To make life easier on the graders if they need to run your code, do not change the relative path names here. Instead, move the files around on your computer.\n",
    "- If you're not familiar with typesetting math directly into Markdown then by all means, do your work on paper first and then typeset it later.  Remember that there is a [reference guide](https://math.meta.stackexchange.com/questions/5020/mathjax-basic-tutorial-and-quick-reference) linked on Canvas on writing math in Markdown. **All** of your written commentary, justifications and mathematical work should be in Markdown.\n",
    "- Because you can technically evaluate notebook cells is a non-linear order, it's a good idea to do Kernel $\\rightarrow$ Restart & Run All as a check before submitting your solutions.  That way if we need to run your code you will know that it will work as expected. \n",
    "- It is **bad form** to make your reader interpret numerical output from your code.  If a question asks you to compute some value from the data you should show your code output **AND** write a summary of the results in Markdown directly below your code. \n",
    "- 95 points of this assignment are in problems.  The remaining 5 are for neatness, style, and overall exposition of both code and text.\n",
    "- This probably goes without saying, but... For any question that asks you to calculate something, you **must show all work and justify your answers to receive credit**. Sparse or nonexistent work will receive sparse or nonexistent credit. \n",
    "\n",
    "---\n",
    "**Shortcuts:**  [Problem 1](#p1) | [Problem 2](#p2) | [Problem 3](#p3) |\n",
    "\n",
    "---"
   ]
  },
  {
   "cell_type": "code",
   "execution_count": 1,
   "metadata": {},
   "outputs": [],
   "source": [
    "import pandas as pd\n",
    "import numpy as np\n",
    "import matplotlib.pylab as plt\n",
    "%matplotlib inline"
   ]
  },
  {
   "cell_type": "markdown",
   "metadata": {},
   "source": [
    "[Back to top](#top)\n",
    "\n",
    "<br>\n",
    "\n",
    "<a id='p1'></a>\n",
    "\n",
    "## (15 points) Problem 1: Theory (Median Distance)\n",
    "***\n",
    "\n",
    "One way we conceptualize many data science questions is asking for the \"best choice\" of some parameter on data set.  We should be able to justify that our measures of centrality should in some way be the \"best\" ways to represent the data.\n",
    "\n",
    "\n",
    "In lecture, we may have discussed the following important property of the mean:\n",
    "\n",
    "\n",
    "The *sample mean* of data $X_1, X_2, \\dots X_n$ is the unique minimizer $c$ of the function $$f(c)=\\sum_{i=1}^n \\left(X_i-c \\right)^2. $$\n",
    "\n",
    "The proof of that claim is as follows:\n",
    "\n",
    "**Proof:**\n",
    "\n",
    "Differentiating yields\n",
    "$$f'(c)=\\frac{df}{dc}\\sum_{i=1}^n \\left(X_i-c \\right)^2 =\\sum_{i=1}^n-2(X_i-c).$$ \n",
    "\n",
    "Setting $f'(c)=0$ gives\n",
    "\n",
    "$$0=\\sum_{i=1}^n-2(X_i-c)$$\n",
    "$$=2nc-2\\sum_{i=1}^n X_i$$\n",
    "$$\\implies\\qquad  c=\\frac{\\sum_{i=1}^n X_i}{n}=\\bar{X}$$\n",
    "\n",
    "***\n",
    "\n",
    "### Your exercise:\n",
    "\n",
    "You are tasked with recreating a *similar* proof.  Prove the following:\n",
    "\n",
    "The *median* of data $X_1, X_2, \\dots X_n$ is the possibly non-unique minimizer $c$ of the function $$f(c)=\\sum_{i=1}^n |X_i-c| $$\n",
    "\n",
    "A few things to think about:\n",
    "\n",
    " - how do we differentiate the absolute value function?\n",
    " - what conditions might make the median non-unique in this case?  If it's nonunique, what possible values of $c$ still minimize the function $f$?"
   ]
  },
  {
   "cell_type": "markdown",
   "metadata": {},
   "source": [
    "**We know $\\frac{d}{dx}(\\mid x \\mid) = \\frac{d}{dx}(\\sqrt{x^2}) =  \\frac{1}{2}(x^2)^{-\\frac{1}{2}}*2 = \\frac{x}{(\\sqrt{x^2})} = \\frac{x}{\\mid x \\mid}$\n",
    "<br>$$f(c)=\\sum_{i=1}^n |x_i-c |$$<br>\n",
    "  $$f'(c)=\\frac{dc}{dx}(\\sum_{i=1}^n |x_i-c |)$$<br>\n",
    "  $$f'(c)=\\sum_{i=1}^n \\frac{dc}{dx}(|x_i-c |)$$<br>\n",
    "  $$f'(c)=\\sum_{i=1}^n \\frac{x_i-c}{|x_i-c |} * -1  $$,using chain rule\n",
    "  $$f'(c)=\\sum_{i=1}^n \\frac{c- x_i}{|x_i-c |}  $$,distributing the negative to the numerator\n",
    "  $$f'(c)=sign(x_i-c) $$, sign(x) is a function described to return the sign of the value\n",
    "  $$0=sign(x_i-c) $$, setting the equation equal to zero <br>\n",
    "  <br> It is good to know about the sign function: $$ sign(x) = 1 , x>0 $$ \n",
    "  $$ -1,  x<0 $$\n",
    "  So for our function this means f'(c) will only equal zero when the items greater than all the $x_i$ terms equals all the items less than are $x_i$ proving c is a minimizer.The conditions that might make the median non-unique is if the set X contains an $x_i$ that is in the data set more than one and is the minimizer.**"
   ]
  },
  {
   "cell_type": "markdown",
   "metadata": {},
   "source": [
    "[Back to top](#top)\n",
    "<a id='p2'></a>\n",
    "\n",
    "## (40 pts) Problem 2: Computation (Streaming Means)\n",
    "***\n",
    "\n",
    "Data science is often divided into two categories: questions of *what* the best value might be to repreesnt a data problem, and questions of *how* to compute that data value.  Question 1 - and prior lectures - should tell you that computing the mean is valuable!  But *how* do we compute the mean?\n",
    "\n",
    "Let $x_1, x_2, \\ldots, x_n$ be $n$ observations of a variable of interest.  Recall that the sample mean $\\bar{x}_n$ and sample variance $s^2_n$ are given by \n",
    "<a id='eq1'></a>\n",
    "$$\n",
    "\\bar{x}_n = \\frac{1}{n}\\sum_{k=1}^n x_k \\quad \\textrm{and} \\quad s^2_n = \\frac{1}{n-1}\\sum_{k=1}^n \\left( x_k - \\bar{x}_n\\right)^2 \\qquad \\tag{Equation 1}\n",
    "$$"
   ]
  },
  {
   "cell_type": "markdown",
   "metadata": {},
   "source": [
    "**Part A**:\n",
    "\n",
    "How many computations - floating point operations: addition, subtraction, multiplication, division each count as 1 operation - are required to compute the mean of the data set with $n$ observations?\n"
   ]
  },
  {
   "cell_type": "markdown",
   "metadata": {},
   "source": [
    "**<Br>$y = \\sum_{k=1}^n $ : Cost = n-1 computations <Br>\n",
    "<Br>$\\frac{y}{n}$ : Cost = 1 computations<Br>\n",
    "<Br>Total Cost =  n computations<Br>**"
   ]
  },
  {
   "cell_type": "markdown",
   "metadata": {},
   "source": [
    "**Part B**:\n",
    "\n",
    "Now suppose our data is *streaming*- we slowly add observations one at a time, instead of seeing the entire data set at once.  We are still interested in the mean, so if we stream the data set `[4,6,0,10, ...]`, we first compute the mean of the the first data point `[4]`, then we recompute the mean of the first two points `[4,6]`, then we recompute the mean of three `[4,6,0]`, and so forth.\n",
    "\n",
    "Suppose we recompute the mean from scratch after each and every one of our $n$ observations are one-by-one added to our data set.  How many floating point operations are spent computing (and re-computing) the mean of the data set?"
   ]
  },
  {
   "cell_type": "markdown",
   "metadata": {},
   "source": [
    "**Cost of Computing mean: N <br> Adding each cost together is just summing n so our result is: $\\sum_{i=1}^n n $**"
   ]
  },
  {
   "cell_type": "markdown",
   "metadata": {},
   "source": [
    "We should be convinced that streaming a mean costs a lot more computer time than just computing once!\n",
    "\n",
    "In this problem we explore a smarter method for such an _online_ computation of the mean.  \n",
    "\n",
    "**Result**: The following relation holds between the mean of the first $n-1$ observations and the mean of all $n$ observations: \n",
    "\n",
    "$$\n",
    "\\bar{x}_n = \\bar{x}_{n-1} + \\frac{x_n - \\bar{x}_{n-1}}{n}\n",
    "$$\n",
    "\n",
    "\n",
    "A proof of this result is in the [Appendix](#Appendix) after problem 3, and requires some careful manipulations of the sum $\\bar{x}_n$.  Your task will be to computationally verify and utilize this result.\n",
    "\n",
    "**Part C**: Write a function `my_sample_mean` that takes as its input a numpy array and returns the mean of that numpy array using the formulas from class ([Equation 1](#eq1)). Write another function `my_sample_var` that takes as its input a numpy array and returns the variance of that numpy array, again using the formulas from class ([Equation 1](#eq1)). You may **not** use any built-in sample mean or variance functions."
   ]
  },
  {
   "cell_type": "code",
   "execution_count": 2,
   "metadata": {},
   "outputs": [],
   "source": [
    "def my_sample_mean (arr):\n",
    "    #mean calc\n",
    "    sum1 = 0\n",
    "    for i in arr:\n",
    "        sum1+= i\n",
    "    return sum1/(arr.size)\n",
    "    \n",
    "    \n",
    "#test = np.array([1,2,3,4,5,6])\n",
    "#my_sample_mean(test)\n",
    "\n",
    "\n",
    "def my_sample_var(arr):\n",
    "    mean = my_sample_mean(arr)\n",
    "    temp =arr #temp copy of orig array\n",
    "    diffArr2= np.array(temp,dtype=float) #instantiates a separate copy of the array at different memory location\n",
    "    for i in range(0,diffArr2.size): \n",
    "        diffArr2[i]= float(diffArr2[i] - mean)\n",
    "    #print(\"Array after sub mean: \" + str(diffArr2))\n",
    "    \n",
    "    for i in range(0,diffArr2.size): \n",
    "        diffArr2[i]= np.square(diffArr2[i])\n",
    "    #print(\"Array after squared: \" + str(diffArr2))\n",
    "    \n",
    "    #sum for numerator\n",
    "    numerator = 0\n",
    "    for i in diffArr2:\n",
    "        numerator += i\n",
    "        \n",
    "    #denominator\n",
    "    denominator = arr.size -1\n",
    "    \n",
    "    return numerator/denominator\n",
    "\n",
    "\n",
    "#sanity check\n",
    "#print(\"mean: \" + str(my_sample_mean(test)))\n",
    "#print(\"meanTrue: \" + str(np.mean(test)))\n",
    "#print(\"variance: \" + str(my_sample_var(test)))\n",
    "#print(\"varianceTrue: \" + str(np.var(test,ddof=1)))"
   ]
  },
  {
   "cell_type": "markdown",
   "metadata": {},
   "source": [
    "**Part D**: Use your functions from Part B to compute the sample mean and sample variance of the following array, which contains the minutes late that the BuffBus is running on Friday afternoon.\n",
    "\n",
    "`bus = [312, 4, 10, 0, 22, 39, 81, 19, 8, 60, 80, 42]`"
   ]
  },
  {
   "cell_type": "code",
   "execution_count": 3,
   "metadata": {},
   "outputs": [
    {
     "name": "stdout",
     "output_type": "stream",
     "text": [
      "mean: 56.416666666666664\n",
      "variance: 7274.628787878787\n"
     ]
    }
   ],
   "source": [
    "bus = np.array([312, 4, 10, 0, 22, 39, 81, 19, 8, 60, 80, 42])\n",
    "print(\"mean: \" + str(my_sample_mean(bus)))\n",
    "print(\"variance: \" + str(my_sample_var(bus)))"
   ]
  },
  {
   "cell_type": "markdown",
   "metadata": {},
   "source": [
    "**Part E**: Implement a third function called `update_mean` that implements the formula discussed after part B. Note that this function will need to take as its input three things: $x_n$, $\\bar{x}_{n-1}$ and $n$, and returns $\\bar{x}_{n}$. A function header and return statement are provided for you. This function may be auto-graded, so please do not change the given header API - the order of inputs matters! If you change it, you might lose points.\n",
    "\n",
    "Use this function to compute the values that you get from taking the mean of the first buff buses' lateness, the first two buff buses' lateness, the first three buff buses' lateness, and so on up to all of the `bus` data points from **Part D**. Store your streaming bus means in a numpy array called `buffbus_bad_means`.  Report all 12 estimates in `buffbus_bad_means`."
   ]
  },
  {
   "cell_type": "code",
   "execution_count": 4,
   "metadata": {},
   "outputs": [
    {
     "name": "stdout",
     "output_type": "stream",
     "text": [
      "buffbus_bad_means: [312.         158.         108.66666667  81.5         69.6\n",
      "  64.5         66.85714286  60.875       55.          55.5\n",
      "  57.72727273  56.41666667]\n"
     ]
    }
   ],
   "source": [
    "# Given API:\n",
    "def update_mean(prev_mean, xn, n):\n",
    "    #Your code here to compute updates\n",
    "    xnSubPrevMean = xn - prev_mean\n",
    "    xnPrevM_DivN = xnSubPrevMean/ n\n",
    "    now_mean = xnPrevM_DivN + prev_mean\n",
    "    \n",
    "    return now_mean\n",
    "\n",
    "\n",
    "#main(loop over data)\n",
    "buffbus_bad_means = np.array([0, 0, 0, 0, 0, 0, 0, 0, 0, 0, 0, 0],dtype = float)\n",
    "for i in range(0,bus.size):\n",
    "    #case 1 first element to be added\n",
    "    if(i==0):\n",
    "        buffbus_bad_means[i] = update_mean(0,bus[i],1)\n",
    "    #case 2 else\n",
    "    else:\n",
    "        buffbus_bad_means[i] = update_mean(buffbus_bad_means[i-1],bus[i],i+1)\n",
    "        \n",
    "        \n",
    "print(\"buffbus_bad_means: \" + str(buffbus_bad_means))\n",
    "\n",
    "#print(\"meanTrue: \" + str(np.mean(bus)))"
   ]
  },
  {
   "cell_type": "markdown",
   "metadata": {},
   "source": [
    "**Above is the precise float means below is the less precise int answers of them. <br>\n",
    "buffbus_bad_means: [312 , 158 , 108 ,  81 , 69 , 64 , 66 , 60 , 54 , 54 , 56 , 54]**"
   ]
  },
  {
   "cell_type": "markdown",
   "metadata": {},
   "source": [
    "To ensure your function complies with the given API, run this small test, where we suppose we have a mean of $\\bar{x}_n = 1$ with the first $2$ data points (`prev_mean`), and we update this with the 3rd ($n=3$) data point which is $x_3=2$:"
   ]
  },
  {
   "cell_type": "code",
   "execution_count": 5,
   "metadata": {},
   "outputs": [],
   "source": [
    "assert update_mean(1,2,3)==4/3, \"Warning: function seems broken.\""
   ]
  },
  {
   "cell_type": "markdown",
   "metadata": {},
   "source": [
    "**Part F**:\n",
    "\n",
    "How many floating point operations were spent computing the final result in your code in **part E**?  Is this truly better than the uninformed approach from **part B**?"
   ]
  },
  {
   "cell_type": "markdown",
   "metadata": {},
   "source": [
    "**updateMean function has a constant operation cost of 3. So in total it would cost: n*3 computations <br> In specifics for part e it was a total of 36 computation where n=12. So yes this is truly better than the uninformed approach from part B( $\\sum_{i=1}^n n $ ), so for part e the total computations would be $\\sum_{i=1}^{12} 12 = 12*12 = 144 $ coputations which is greater than part e code.**"
   ]
  },
  {
   "cell_type": "markdown",
   "metadata": {},
   "source": [
    "[Back to top](#top)\n",
    "\n",
    "<a id='p3'></a>\n",
    "\n",
    "## (40 pts) Problem 3: Data (Probability and Histograms)\n",
    "*** \n",
    "The sinking of the RMS Titanic was a terrible tragedy that saw the loss of many lives. Even within this tragedy, thanks to the combinations of the records of the White Star Line and the thorough nature of follow-up research after the accident we have some records that can help us try to piece together the course of events on board the ship. Many of the historians and other researchers who have investigated this event have speculated as to what exactly happened.\n",
    "\n",
    "We have the data on survival rates by class, gender, and age, so let's figure out whether there is evidence for some of these scenarios. Access the Titanic data in `titanic_data.csv` and store it in a Pandas DataFrame. The data contains information pertaining to class status (**Pclass**), survival (**Survived**), and gender (**Sex**) of passengers, among other things. Be sure to use the `titanic_data.csv` data set, *not* the `clean_titanic_data` file or `dirty_titanic_data` file from the in-class notebook exercises."
   ]
  },
  {
   "cell_type": "code",
   "execution_count": 6,
   "metadata": {},
   "outputs": [
    {
     "data": {
      "text/html": [
       "<div>\n",
       "<style scoped>\n",
       "    .dataframe tbody tr th:only-of-type {\n",
       "        vertical-align: middle;\n",
       "    }\n",
       "\n",
       "    .dataframe tbody tr th {\n",
       "        vertical-align: top;\n",
       "    }\n",
       "\n",
       "    .dataframe thead th {\n",
       "        text-align: right;\n",
       "    }\n",
       "</style>\n",
       "<table border=\"1\" class=\"dataframe\">\n",
       "  <thead>\n",
       "    <tr style=\"text-align: right;\">\n",
       "      <th></th>\n",
       "      <th>PassengerId</th>\n",
       "      <th>Survived</th>\n",
       "      <th>Pclass</th>\n",
       "      <th>Name</th>\n",
       "      <th>Sex</th>\n",
       "      <th>Age</th>\n",
       "      <th>SibSp</th>\n",
       "      <th>Parch</th>\n",
       "      <th>Ticket</th>\n",
       "      <th>Fare</th>\n",
       "      <th>Cabin</th>\n",
       "      <th>Embarked</th>\n",
       "    </tr>\n",
       "  </thead>\n",
       "  <tbody>\n",
       "    <tr>\n",
       "      <td>0</td>\n",
       "      <td>1</td>\n",
       "      <td>0</td>\n",
       "      <td>3</td>\n",
       "      <td>Braund, Mr. Owen Harris</td>\n",
       "      <td>male</td>\n",
       "      <td>36.0</td>\n",
       "      <td>1</td>\n",
       "      <td>0</td>\n",
       "      <td>A/5 21171</td>\n",
       "      <td>7.2500</td>\n",
       "      <td>NaN</td>\n",
       "      <td>S</td>\n",
       "    </tr>\n",
       "    <tr>\n",
       "      <td>1</td>\n",
       "      <td>2</td>\n",
       "      <td>1</td>\n",
       "      <td>1</td>\n",
       "      <td>Cumings, Mrs. John Bradley (Florence Briggs Th...</td>\n",
       "      <td>female</td>\n",
       "      <td>18.0</td>\n",
       "      <td>1</td>\n",
       "      <td>0</td>\n",
       "      <td>PC 17599</td>\n",
       "      <td>71.2833</td>\n",
       "      <td>C85</td>\n",
       "      <td>C</td>\n",
       "    </tr>\n",
       "    <tr>\n",
       "      <td>2</td>\n",
       "      <td>3</td>\n",
       "      <td>1</td>\n",
       "      <td>3</td>\n",
       "      <td>Heikkinen, Miss. Laina</td>\n",
       "      <td>female</td>\n",
       "      <td>14.0</td>\n",
       "      <td>0</td>\n",
       "      <td>0</td>\n",
       "      <td>STON/O2. 3101282</td>\n",
       "      <td>7.9250</td>\n",
       "      <td>NaN</td>\n",
       "      <td>S</td>\n",
       "    </tr>\n",
       "    <tr>\n",
       "      <td>3</td>\n",
       "      <td>4</td>\n",
       "      <td>1</td>\n",
       "      <td>1</td>\n",
       "      <td>Futrelle, Mrs. Jacques Heath (Lily May Peel)</td>\n",
       "      <td>female</td>\n",
       "      <td>27.0</td>\n",
       "      <td>1</td>\n",
       "      <td>0</td>\n",
       "      <td>113803</td>\n",
       "      <td>53.1000</td>\n",
       "      <td>C123</td>\n",
       "      <td>S</td>\n",
       "    </tr>\n",
       "    <tr>\n",
       "      <td>4</td>\n",
       "      <td>5</td>\n",
       "      <td>0</td>\n",
       "      <td>3</td>\n",
       "      <td>Allen, Mr. William Henry</td>\n",
       "      <td>male</td>\n",
       "      <td>63.0</td>\n",
       "      <td>0</td>\n",
       "      <td>0</td>\n",
       "      <td>373450</td>\n",
       "      <td>8.0500</td>\n",
       "      <td>NaN</td>\n",
       "      <td>S</td>\n",
       "    </tr>\n",
       "  </tbody>\n",
       "</table>\n",
       "</div>"
      ],
      "text/plain": [
       "   PassengerId  Survived  Pclass  \\\n",
       "0            1         0       3   \n",
       "1            2         1       1   \n",
       "2            3         1       3   \n",
       "3            4         1       1   \n",
       "4            5         0       3   \n",
       "\n",
       "                                                Name     Sex   Age  SibSp  \\\n",
       "0                            Braund, Mr. Owen Harris    male  36.0      1   \n",
       "1  Cumings, Mrs. John Bradley (Florence Briggs Th...  female  18.0      1   \n",
       "2                             Heikkinen, Miss. Laina  female  14.0      0   \n",
       "3       Futrelle, Mrs. Jacques Heath (Lily May Peel)  female  27.0      1   \n",
       "4                           Allen, Mr. William Henry    male  63.0      0   \n",
       "\n",
       "   Parch            Ticket     Fare Cabin Embarked  \n",
       "0      0         A/5 21171   7.2500   NaN        S  \n",
       "1      0          PC 17599  71.2833   C85        C  \n",
       "2      0  STON/O2. 3101282   7.9250   NaN        S  \n",
       "3      0            113803  53.1000  C123        S  \n",
       "4      0            373450   8.0500   NaN        S  "
      ]
     },
     "execution_count": 6,
     "metadata": {},
     "output_type": "execute_result"
    }
   ],
   "source": [
    "filepath = '../Data/titanic_data.csv'\n",
    "df = pd.read_csv(filepath)\n",
    "df.head()"
   ]
  },
  {
   "cell_type": "markdown",
   "metadata": {},
   "source": [
    "**Part A**:\n",
    "Based on the overall population of passengers, report the probability of survival.\n",
    "\n",
    "$$P(Survived=1)$$"
   ]
  },
  {
   "cell_type": "code",
   "execution_count": 7,
   "metadata": {},
   "outputs": [
    {
     "name": "stdout",
     "output_type": "stream",
     "text": [
      "Survived: 350\n",
      "rip: 541\n",
      "The probability of survival is: 0.39281705948372614\n"
     ]
    }
   ],
   "source": [
    "sumSurvive = 0\n",
    "sumRip = 0\n",
    "for i in df.loc[:,\"Survived\"]:\n",
    "    if(i):\n",
    "        sumSurvive+=1\n",
    "    else:\n",
    "        sumRip+=1\n",
    "print(\"Survived: \" + str(sumSurvive))\n",
    "print(\"rip: \" +  str(sumRip))\n",
    "probOfSurvival = sumSurvive/(sumSurvive + sumRip)\n",
    "print(\"The probability of survival is: \" + str(probOfSurvival))"
   ]
  },
  {
   "cell_type": "markdown",
   "metadata": {},
   "source": [
    "**Part B**: \n",
    "Some claim that the final hours aboard the RMS Titanic were marked by \"class warfare\" in which the people with first-class tickets took all the good spots on the lifeboats; others claim that the final hours were characterized by male chivalry, in which the men valiantly gave up their positions in the boats and succumbed bravely to the depths of the Atlantic. \n",
    "\n",
    "Consider the two claims: class warfare, and male chivalry. Suppose that class warfare occurred in the final hours aboard the Titanic.  What patterns might you expect to see in the data?  Suppose that male chivalry was widespread during the final hours instead. What patterns might you then expect to see in the data?  Explain both of these hypothesized patterns in words. Are these two hypotheses mutually exclusive or not?"
   ]
  },
  {
   "cell_type": "markdown",
   "metadata": {},
   "source": [
    "**If class warfare occurred in the final hours aboard the Titanice we would expect the probability of surviving given someone is in first class to be considerably higher that than the probability of surviving given one is in second or third class. If male chivalry was widespread I would expect the probability of surviving given one is male is to be extremely low compared to the probability of surviving given one is a child or a women. These hypotheses are not mutually exclusive because one could could see that more of the higher class survived and more women and children survived than men. One can see both these can happen at the same time.**"
   ]
  },
  {
   "cell_type": "markdown",
   "metadata": {},
   "source": [
    "**Part C**: Use Pandas methods to create a clean data set by removing any rows from the DataFrame that are missing values corresponding to **Survived**, **Pclass**, **Age**, or **Sex**. Store the clean data in a DataFrame called dfTitanic. Be sure to show any exploratory work determining if/where there are rows with missing values. _HINT: There should be 714 rows in your cleaned data set._"
   ]
  },
  {
   "cell_type": "code",
   "execution_count": 8,
   "metadata": {},
   "outputs": [
    {
     "name": "stdout",
     "output_type": "stream",
     "text": [
      "<class 'pandas.core.frame.DataFrame'>\n",
      "Int64Index: 714 entries, 0 to 888\n",
      "Data columns (total 12 columns):\n",
      "PassengerId    714 non-null int64\n",
      "Survived       714 non-null int64\n",
      "Pclass         714 non-null int64\n",
      "Name           714 non-null object\n",
      "Sex            714 non-null object\n",
      "Age            714 non-null float64\n",
      "SibSp          714 non-null int64\n",
      "Parch          714 non-null int64\n",
      "Ticket         714 non-null object\n",
      "Fare           714 non-null float64\n",
      "Cabin          165 non-null object\n",
      "Embarked       713 non-null object\n",
      "dtypes: float64(2), int64(5), object(5)\n",
      "memory usage: 72.5+ KB\n",
      "<class 'pandas.core.frame.DataFrame'>\n",
      "Int64Index: 714 entries, 0 to 888\n",
      "Data columns (total 12 columns):\n",
      "PassengerId    714 non-null float64\n",
      "Survived       714 non-null float64\n",
      "Pclass         714 non-null float64\n",
      "Name           714 non-null object\n",
      "Sex            714 non-null object\n",
      "Age            714 non-null float64\n",
      "SibSp          714 non-null float64\n",
      "Parch          714 non-null float64\n",
      "Ticket         714 non-null object\n",
      "Fare           714 non-null float64\n",
      "Cabin          165 non-null object\n",
      "Embarked       713 non-null object\n",
      "dtypes: float64(7), object(5)\n",
      "memory usage: 72.5+ KB\n"
     ]
    }
   ],
   "source": [
    "dfTitanic = df.dropna(subset=[\"Survived\", \"Pclass\", \"Age\",\"Sex\"]).copy()#dropna allows us to use subset of columns to drop rows with missing values\n",
    "dfTitanic.info()\n",
    "\n",
    "for col in dfTitanic.columns: \n",
    "    if((col != \"Name\") & (col !=\"Sex\") &  (col !=\"Ticket\")& (col !=\"Cabin\") & (col !=\"Embarked\")):\n",
    "        #print(col)\n",
    "        dfTitanic.loc[:,col] = dfTitanic.loc[:,col].astype(float)\n",
    "\n",
    "dfTitanic.info()"
   ]
  },
  {
   "cell_type": "markdown",
   "metadata": {},
   "source": [
    "**Part D**: Compute the probability of survival according to class, gender, and all combinations of the two variables.  Then, answer the following questions:\n",
    "* **(i)** When reviewing class survival probability, how do the results compare to the base survival probability results from **Part A**?\n",
    "* **(ii)** When reviewing gender survival probability, how do the results compare to the base survival probability results from **Part A**?\n",
    "* **(iii)** Within each passenger class, were men or women more/less/equally likely to survive?\n",
    "* **(iv)**  Did men in first class or women in third class have a higher survival probability?\n"
   ]
  },
  {
   "cell_type": "code",
   "execution_count": 10,
   "metadata": {},
   "outputs": [
    {
     "name": "stdout",
     "output_type": "stream",
     "text": [
      "p(Survive - class 1) = 0.6428571428571429\n",
      "p(Survive - class 2) = 0.4827586206896552\n",
      "p(Survive - class 3) = 0.2518703241895262\n",
      "\n",
      "p(Survive - male) = 0.19654427645788336\n",
      "p(Survive - female) = 0.749003984063745\n",
      "\n",
      "p(Survive - (class 1 & male) ) = 0.3870967741935484\n",
      "p(Survive - (class 1 & female) ) = 0.96\n",
      "p(Survive - (class 2 & male) ) = 0.1839080459770115\n",
      "p(Survive - (class 2 & female) ) = 0.9310344827586207\n",
      "p(Survive - (class 3 & male) ) = 0.13780918727915195\n",
      "p(Survive - (class 3 & female) ) = 0.5254237288135594\n",
      "\n"
     ]
    }
   ],
   "source": [
    "#p(class) = {1,2,3} \n",
    "    #p(Survive | class 1)\n",
    "    #p(Survive | class 2)\n",
    "    #p(Survive | class 3)\n",
    "class_columns = dfTitanic[[\"Pclass\",\"Survived\"]]\n",
    "dfClass = class_columns.copy()\n",
    "\n",
    "\n",
    "\n",
    "\n",
    "c1Survive = 0\n",
    "c1Dead = 0\n",
    "c2Survive = 0\n",
    "c2Dead = 0\n",
    "c3Survive = 0\n",
    "c3Dead = 0\n",
    "\n",
    "for i in dfClass.itertuples(): # i[1]=pClass i[2]=Survived \n",
    "    if(i[1]==1.0 and i[2]== 1):\n",
    "        #class 1 and survived\n",
    "        c1Survive +=1\n",
    "    elif(i[1]==1.0 and i[2]== 0):\n",
    "        #class 1 and dead\n",
    "        c1Dead +=1\n",
    "    elif(i[1]==2.0 and i[2]== 1):\n",
    "        #class 2 and survived\n",
    "        c2Survive +=1\n",
    "    elif(i[1]==2.0 and i[2]== 0):\n",
    "        #class 2 and dead\n",
    "        c2Dead +=1\n",
    "    elif(i[1]==3.0 and i[2]== 1):\n",
    "        #class 3 and survived\n",
    "        c3Survive +=1\n",
    "    elif(i[1]==3.0 and i[2]== 0):\n",
    "        #class 3 and dead\n",
    "        c3Dead +=1 \n",
    "    else:\n",
    "        print(\"Should not get here\")\n",
    "        \n",
    "def Prob(event,notEvent):\n",
    "    return str(event/(event +notEvent))\n",
    "\n",
    "\n",
    "\n",
    "print  (\"p(Survive - class 1) = \"+ Prob(c1Survive, c1Dead))\n",
    "print  (\"p(Survive - class 2) = \"+ Prob(c2Survive, c2Dead))\n",
    "print  (\"p(Survive - class 3) = \"+ Prob(c3Survive, c3Dead))\n",
    "print(\"\")\n",
    "#print  (\"p(Not Surviving - class 1) = \"+ Prob(c1Dead, c1Survive))\n",
    "#print  (\"p(Not Surviving - class 2) = \"+ Prob(c2Dead, c2Survive))\n",
    "#print  (\"p(Not Surviving - class 3) = \"+ Prob(c3Dead, c3Survive))\n",
    "#print(\"\")\n",
    "\n",
    "\n",
    "#p(gender) = {male,female}\n",
    "    #p(Survive - male)\n",
    "    #p(Survive - female)\n",
    "Gen_columns = dfTitanic[[\"Sex\",\"Survived\"]]\n",
    "dfGender = Gen_columns.copy()\n",
    "    \n",
    "maleSurvived = 0\n",
    "maleDead = 0\n",
    "femaleSurvived = 0\n",
    "femaleDead = 0\n",
    "\n",
    "for i in dfGender.itertuples(): # i[1]=sex i[2]=Survived \n",
    "    if(i[1] == \"male\"and i[2]== 1):\n",
    "        #male that survived\n",
    "         maleSurvived +=1\n",
    "    elif(i[1]== \"male\" and i[2]== 0):\n",
    "        #male and dead\n",
    "        maleDead +=1\n",
    "    elif(i[1]==\"female\"and i[2]== 1):\n",
    "        #female and survived\n",
    "        femaleSurvived +=1\n",
    "    elif(i[1]==\"female\"and i[2]== 0):\n",
    "        #female and dead\n",
    "        femaleDead +=1\n",
    "    else:\n",
    "        print(\"Should not get here\")\n",
    "    \n",
    "print  (\"p(Survive - male) = \"+ Prob(maleSurvived, maleDead))\n",
    "print  (\"p(Survive - female) = \"+ Prob(femaleSurvived, femaleDead))  \n",
    "print(\"\")\n",
    "#print  (\"p(Not Surviving - male) = \"+ Prob(maleDead, maleSurvived))\n",
    "#print  (\"p(Not Surviving - female) = \"+ Prob(femaleDead, femaleSurvived))   \n",
    "#print(\"\")\n",
    "    \n",
    "    \n",
    "#combo p(survival - (class & gender))\n",
    "    #p(survival - (class 1 & male))\n",
    "    #p(survival - (class 1 & female))\n",
    "    #p(survival - (class 2 & male))\n",
    "    #p(survival - (class 2 & female))\n",
    "    #p(survival - (class 3 & male))\n",
    "    #p(survival - (class 3 & female))\n",
    "    \n",
    "both_columns = dfTitanic[[\"Pclass\",\"Sex\",\"Survived\"]]\n",
    "dfBoth = both_columns.copy()   \n",
    "\n",
    "\n",
    "m1Survived = 0\n",
    "m1Dead = 0\n",
    "f1Survived = 0\n",
    "f1Dead = 0\n",
    "\n",
    "m2Survived = 0\n",
    "m2Dead = 0\n",
    "f2Survived = 0\n",
    "f2Dead = 0\n",
    "\n",
    "m3Survived = 0\n",
    "m3Dead = 0\n",
    "f3Survived = 0\n",
    "f3Dead = 0\n",
    "for i in dfBoth.itertuples(): # i[1]=Pclass, i[2]=Sex, i[3] = \"Survived\"\n",
    "    \n",
    "    #class1\n",
    "    if(i[1]== 1 and i[2]== \"male\" and i[3] == 1):\n",
    "        #class 1, male, survived\n",
    "        m1Survived +=1\n",
    "    elif(i[1]== 1 and i[2]== \"male\" and i[3] == 0):\n",
    "        #class 1, male, dead\n",
    "        m1Dead +=1\n",
    "    elif(i[1]== 1 and i[2]== \"female\" and i[3] == 1):\n",
    "        #class 1, female, survived\n",
    "        f1Survived +=1\n",
    "    elif(i[1]== 1 and i[2]== \"female\" and i[3] == 0):\n",
    "        #class 1, male, dead\n",
    "        f1Dead +=1\n",
    "        \n",
    "        \n",
    "    #class 2\n",
    "    elif(i[1]== 2 and i[2]== \"male\" and i[3] == 1):\n",
    "        #class 2, male, survived\n",
    "        m2Survived +=1\n",
    "    elif(i[1]== 2 and i[2]== \"male\" and i[3] == 0):\n",
    "        #class 2, male, dead\n",
    "        m2Dead +=1\n",
    "    elif(i[1]== 2 and i[2]== \"female\" and i[3] == 1):\n",
    "        #class 2, female, survived\n",
    "        f2Survived +=1\n",
    "    elif(i[1]== 2 and i[2]== \"female\" and i[3] == 0):\n",
    "        #class 2, male, dead\n",
    "        f2Dead +=1\n",
    "        \n",
    "        \n",
    "    #class 3\n",
    "    elif(i[1]== 3 and i[2]== \"male\" and i[3] == 1):\n",
    "        #class 3, male, survived\n",
    "        m3Survived +=1\n",
    "    elif(i[1]== 3 and i[2]== \"male\" and i[3] == 0):\n",
    "        #class 3, male, dead\n",
    "        m3Dead +=1\n",
    "    elif(i[1]== 3 and i[2]== \"female\" and i[3] == 1):\n",
    "        #class 3, female, survived\n",
    "        f3Survived +=1\n",
    "    elif(i[1]== 3 and i[2]== \"female\" and i[3] == 0):\n",
    "        #class 3, male, dead\n",
    "        f3Dead +=1\n",
    "    else:\n",
    "        print(\"Should not be here\")\n",
    "        \n",
    "\n",
    "print  (\"p(Survive - (class 1 & male) ) = \"+ Prob(m1Survived, m1Dead))\n",
    "print  (\"p(Survive - (class 1 & female) ) = \"+ Prob(f1Survived, f1Dead))\n",
    "print  (\"p(Survive - (class 2 & male) ) = \"+ Prob(m2Survived, m2Dead))\n",
    "print  (\"p(Survive - (class 2 & female) ) = \"+ Prob(f2Survived, f2Dead))\n",
    "print  (\"p(Survive - (class 3 & male) ) = \"+ Prob(m3Survived, m3Dead))\n",
    "print  (\"p(Survive - (class 3 & female) ) = \"+ Prob(f3Survived, f3Dead))\n",
    "print(\"\")\n",
    "#print  (\"p(Not Surviving - (class 1 & male) ) = \"+ Prob(m1Dead, m1Survived))\n",
    "#print  (\"p(Not Surviving - (class 1 & female) ) = \"+ Prob(f1Dead, f1Survived))\n",
    "#print  (\"p(Not Surviving - (class 2 & male) ) = \"+ Prob(m2Dead, m2Survived))\n",
    "#print  (\"p(Not Surviving - (class 2 & female) ) = \"+ Prob(f2Dead, f2Survived))\n",
    "#print  (\"p(Not Surviving - (class 3 & male) ) = \"+ Prob(m3Dead, m3Survived))\n",
    "#print  (\"p(Not Surviving - (class 3 & female) ) = \"+ Prob(f3Dead, f3Survived))\n",
    "#print(\"\")\n",
    "        "
   ]
  },
  {
   "cell_type": "markdown",
   "metadata": {},
   "source": [
    "**i)<br> P(Survival - Class 1) = .64 <br> P(Survival - Class 2) = .48 <br> P(Survival - Class 3) = .25 <br>\n",
    "P(Survival) = .39 <br> We can see that as one moves up in class rank than the chance of survival increases. In third class one is well below the survival rate from part a as 1st class and 2nd class are above the survival rate. One can see the class warfare could easily have been possible.<br> <br>\n",
    "ii) <br> P(Survival - Male) = .19 <br> P(Survival - Female) = .74 <br> P(Survival) = .39 <br> We can see that males were well below the survival probability from part A, as the Females were above it. One can see that chivalry could easily have made this disparity.<br> <br>\n",
    "iii)In each Class: <br>\n",
    "Class 1: p(female) = .96 > p(male) = .39  $\\to $ females more likely to survive<br>\n",
    "Class 2: p(female) = .93 > p(male) = .18  $\\to $ females more likely to survive<br>\n",
    "Class 3: p(female) = .52 > p(male) = .14  $\\to $ females more likely to survive<br><br>\n",
    "iv) P(class 1 & male) = .39 < p(class 3 & female) = .53 $\\to $ females still more likely to survive<br>**\n"
   ]
  },
  {
   "cell_type": "markdown",
   "metadata": {},
   "source": [
    "**Part E**: One might wonder how a passenger's age is related to the likelihood that they would survive the Titanic disaster. In addition to the \"male chivalry\" argument outlined above, you can perhaps imagine an addendum - \"women and children first!\" - as the cry to ring out across the decks. Or you might imagine the opposite - rather than \"class warfare\", it is simply healthy adults fighting to take lifeboat spots for themselves.\n",
    "\n",
    "To answer this question graphically, plot two density histograms on the same set of axes, showing the distribution of the ages of passengers who survived, and the distribution of the ages of passengers who did not. \n",
    "* Use the bin edges $[0,5,10,\\ldots,70,75,80]$ for both histograms.\n",
    "* To better distinguish between our populations, we will represent survivors with `navy` (as they were eventually rescued by ships) and those who passed away with `sandybrown`.\n",
    "* Plot both histograms on a single set of axes (there should be only one panel in the figure you create), but use Matplotlib/Pandas plotting functionality to make the faces of the histogram boxes somewhat transparent, so both histograms are visible.\n",
    "* Include a legend and label your axes.\n",
    "* Comment on the results. Does your figure suggest that some age ranges are more or less likely to have survived the disaster than other ages? Fully explain your reasoning and use your figure to justify your conclusions.\n",
    "* If you noticed some relationship between age and likelihood of survival, what is one possible explanation?"
   ]
  },
  {
   "cell_type": "code",
   "execution_count": 11,
   "metadata": {},
   "outputs": [
    {
     "data": {
      "text/plain": [
       "<matplotlib.legend.Legend at 0x224b9629288>"
      ]
     },
     "execution_count": 11,
     "metadata": {},
     "output_type": "execute_result"
    },
    {
     "data": {
      "image/png": "[encoded data removed]",
      "text/plain": [
       "<Figure size 648x720 with 1 Axes>"
      ]
     },
     "metadata": {
      "needs_background": "light"
     },
     "output_type": "display_data"
    }
   ],
   "source": [
    "my_bins = range(0,80,5)\n",
    "\n",
    "fig, ax = plt.subplots(nrows=1, ncols=1, figsize=(9,10))\n",
    "dfTitanic.loc[dfTitanic[\"Survived\"]==1.0].hist(column =\"Age\",ax = ax,facecolor=\"navy\",edgecolor=\"black\",density = True,bins = my_bins)\n",
    "dfTitanic.loc[dfTitanic[\"Survived\"]==0.0].hist(column =\"Age\",ax = ax,facecolor=\"sandybrown\",edgecolor=\"black\",density = True,bins = my_bins,alpha=.8)\n",
    "\n",
    "ax.set_title(\"Survivors vs Passed Away - Age Histogram\",fontsize=20)\n",
    "plt.xlabel('Age',fontsize=16)\n",
    "plt.ylabel('Density',fontsize=16)\n",
    "plt.legend([\"Survived\",\"Passed Away\"],loc=\"upper left\")\n",
    "\n"
   ]
  },
  {
   "cell_type": "markdown",
   "metadata": {},
   "source": [
    "**Yes my figure does suggest that if one is : <10 or 30-40 or >70 you have a higher chance of not surviving. Out of the relationship we can see  that if one was <10 in age than if they lose their caretake would not be able to fend for them selves. If one >70 it can also be inferred that if one was >70 they would not be as mobile and would have less of a chance of survivability. Another possible explanation could be that they did not let anyone on the lifeboats >70. I can not think of why more 30-40 years died.**"
   ]
  },
  {
   "cell_type": "markdown",
   "metadata": {},
   "source": [
    "**Part F:** In Part E, we plotted two *density* histograms, showing the distributions of ages of passengers that survived or did not survive the Titanic disaster. Why would it be misleading for us to have plotted these as *frequency* histograms instead?"
   ]
  },
  {
   "cell_type": "markdown",
   "metadata": {},
   "source": [
    "**A density histogram shows units in each bin size that add the area underneath the curve to 1. This manipulation enable us to see a curve of the population on same vertical scale. As a frequency histogram simply shows the amount of times that bin occurs. This can quickly seem misleading if not on the same scale.**"
   ]
  },
  {
   "cell_type": "markdown",
   "metadata": {},
   "source": [
    "**Part G**: Do the data suggest class warfare, male chivalry, age bias, or some combination of these characteristics in the final hours aboard the Titanic?  Justify your conclusions based on the computations done above, or do any other analysis that you like, but be sure to clearly justify your conclusions."
   ]
  },
  {
   "cell_type": "markdown",
   "metadata": {},
   "source": [
    "**I do believe that it is a combination of these three factors(class warfare, male chivalry, age bias). We can definitely see true correlations when calculating the probability of surviving base on class and sex in part D. This clearly showed a biased of surviving toward women and having a higher class. In terms of age, the biased of surviving is clearly centered toward the middle age group looking at the histogram in part E. If one is to young(<10) or to old(>70) their chance of survial does not seem as good.**"
   ]
  },
  {
   "cell_type": "markdown",
   "metadata": {},
   "source": [
    "**P.S.** It is not a component of your graded assignment, but the 1997 James Cameron film _Titanic_ captured some of these very notions in some riveting cinema. Whether or not you found evidence for these cases in the data, you might find it interesting to watch the movie (or just the segments of the sinking) to see one interpretation of these ideas. You can perhaps see how we might be persuaded to reinterpret the evidence of data by a heart-wrenching performance from a handsome young Leonardo DiCaprio!"
   ]
  },
  {
   "cell_type": "markdown",
   "metadata": {},
   "source": [
    "<a id='Appendix'></a>\n",
    "\n",
    "## Appendix \n",
    "\n",
    "*Goal*: Prove that \n",
    "$$\n",
    "\\bar{x}_n = \\bar{x}_{n-1} + \\frac{x_n - \\bar{x}_{n-1}}{n}\n",
    "$$\n",
    "\n",
    "Note that you can get an expression for $\\bar{x}_{n-1}$ by simply replacing $n$ in Equation 1 above with $n-1$.\n",
    "\n",
    "We'll start with $\\bar{x}_n$ and massage it until we get the righthand side of the formula\n",
    "\n",
    "\\begin{eqnarray}\n",
    "\\nonumber \\bar{x}_n &=& \\frac{1}{n} \\sum_{k=1}^n x_k \\\\\n",
    "&=& \\frac{1}{n} \\sum_{k=1}^{n-1} x_k + \\frac{1}{n}x_n \\\\\n",
    "&=& \\frac{n-1}{n-1}\\frac{1}{n} \\sum_{k=1}^{n-1} x_k + \\frac{1}{n}x_n \\\\\n",
    "&=& \\frac{n-1}{n} \\left(\\frac{1}{n-1} \\sum_{k=1}^{n-1} x_k\\right) + \\frac{1}{n}x_n \\\\\n",
    "&=& \\frac{n-1}{n} \\bar{x}_{n-1} + \\frac{1}{n}x_n \\\\\n",
    "&=& \\frac{n}{n}\\bar{x}_{n-1} - \\frac{1}{n}\\bar{x}_{n-1} + \\frac{1}{n}x_n \\\\\n",
    "&=&  \\bar{x}_{n-1} + \\frac{x_n - \\bar{x}_{n-1}}{n} \\quad \\checkmark\n",
    "\\end{eqnarray}\n",
    "\n"
   ]
  },
  {
   "cell_type": "code",
   "execution_count": null,
   "metadata": {},
   "outputs": [],
   "source": []
  },
  {
   "cell_type": "code",
   "execution_count": null,
   "metadata": {},
   "outputs": [],
   "source": [
    "\n",
    "\n",
    "\n",
    "\n",
    "\n",
    "\n",
    "\n",
    "\n",
    "\n",
    "\n",
    "\n",
    "\n",
    "\n",
    "\n",
    "\n",
    "\n",
    "\n",
    "\n",
    "\n",
    "\n",
    "\n",
    "\n",
    "\n",
    "\n",
    "\n",
    "\n",
    "\n",
    "\n",
    "\n",
    "tc = 52\n",
    "#faces={\"faceValue\":np.array([\"Ace\",\"Two\",\"Three\",\"Four\",\"Five\",\"Six\",\"Seven\",\"Eight\",\"Nine\",\"Ten\",\"Jack\",\"Queen\",\"King\"]),'probFace' : np.array([4/tc,4/tc,4/tc,4/tc,4/tc,4/tc,4/tc,4/tc,4/tc,4/tc,4/tc,4/tc,4/tc])}\n",
    "#suits={\"suitValue\": np.array([\"Hearts\",\"Spades\",\"Clubs\",\"Diamonds\"]),'probSuit' : np.array([13/tc,13/tc,13/52,13/tc])}\n",
    "faceValue = np.array([\"Ace\",\"Two\",\"Three\",\"Four\",\"Five\",\"Six\",\"Seven\",\"Eight\",\"Nine\",\"Ten\",\"Jack\",\"Queen\",\"King\"])\n",
    "suitValue = np.array([\"Hearts\",\"Spades\",\"Clubs\",\"Diamonds\"])\n",
    "nsamp=10000\n",
    "\n",
    "\n",
    "\n",
    "\n",
    "f1 = np.random.choice(faceValue, size=nsamp)\n",
    "df = pd.DataFrame({\"faceD1\": f1})\n",
    "s1 = np.random.choice(suitValue, size=nsamp)\n",
    "df[\"suitD1\"] = pd.DataFrame({\"suitD1\": s1})\n",
    "df['card_D1'] = df['faceD1'].str.cat(df['suitD1'],sep=\" \")\n",
    "\n",
    "tc=tc-1\n",
    "#drawTwo\n",
    "\n",
    "df[\"f5\"]= df.apply(drawThree_Face, axis=1)  \n",
    "df[\"s5\"]= df.apply(drawThree_Suit, axis=1)\n",
    "df['card_D5'] = df['f5'].str.cat(df['s5'],sep=\" \")\n",
    "df.head(10)\n",
    "\n",
    "\n",
    "\n",
    "\n",
    "\n",
    "\n",
    "\n",
    "\n",
    "\n",
    "\n",
    "\n",
    "#test= len(df.loc[ (df[\"card_D1\"]== df[\"card_D2\"]) & (df[\"card_D2\"]==df[\"card_D3\"]) & (df[\"card_D3\"]!=df[\"card_D4\"])& (df[\"card_D3\"]!=df[\"card_D5\"])])\n",
    "#print(test)\n",
    "# threeOfKindProb /nsamp\n",
    "#function that adds face and suit called cardD1 ..\n",
    "import itertools\n",
    "test = np.array([\"card_D1\",\"card_D2\",\"card_D3\",\"card_D4\",\"card_D5\"])\n",
    "testL = list(itertools.combinations(test,3))\n",
    "count = 0\n",
    "for i in range(0,len(testL)):\n",
    "    temp = np.array(testL[i])\n",
    "    count = count + len(df.loc[(df[temp[0]]==df[temp[1]]) & (df[temp[0]]==df[temp[2]])])\n",
    "\n",
    "\n",
    "three_of_kind_prob=count/nsamp\n",
    "\n",
    "#three_of_kind_prob= len(df.loc[(df[\"card_D1\"]==df[\"card_D2\"]) & (df[\"card_D1\"]==df[\"card_D3\"])])\n",
    "print(\"The three of a kind probability is: \" + str(three_of_kind_prob))\n",
    "#idea: make a function that take the draw on each Row of the data frame and either:\n",
    "# -draws another fair draw if #1 was white\n",
    "# -draws from a bag with 3x black and 1x whithe if draw #1 black\n",
    "#def draw_second(row, marbles):#problem 3 focused on np. random\n",
    "    #return np.random.choice(marbles) if row[0]==\"white\" else np.random.choice(marbles, p=[3/4,1/4])\n",
    "\n",
    "#new column: perform this function once per row of df\n",
    "#df[\"d2\"]= df.apply(draw_second, axis=1, marbles=marbles) \n",
    "#df.head()\n",
    "#problem 2\n",
    "#both_black_prob= len(df.loc[(df[\"d1\"]=='black') & (df[\"d2\"]=='black')])/nsamp\n",
    "#print(\"Prob of B/B was aprox: \", both_black_prob)\n",
    "\n",
    "\n",
    "\n",
    "\n",
    "#for i in range(1,6):\n",
    "    \n",
    "   #f1 = np.random.choice(faceValue, size=nsamp)\n",
    "    #s1 = np.random.choice(suitValue, size=nsamp)\n",
    "    #print(f1)\n",
    "    #print(s1)\n",
    "    #playingCard= np.array([f1,s1])\n",
    "    #if(i!=1):\n",
    "        #df[\"faceD\"+str(i)] = pd.DataFrame({\"faceD\"+str(i): f1})\n",
    "    #df[\"suitD\"+str(i)] = pd.DataFrame({\"suitD\"+str(i): s1})\n",
    "    #df['card_D'+str(i)] = df['faceD'+str(i)].str.cat(df['suitD'+str(i)],sep=\" \")"
   ]
  }
 ],
 "metadata": {
  "kernelspec": {
   "display_name": "Python 3",
   "language": "python",
   "name": "python3"
  },
  "language_info": {
   "codemirror_mode": {
    "name": "ipython",
    "version": 3
   },
   "file_extension": ".py",
   "mimetype": "text/x-python",
   "name": "python",
   "nbconvert_exporter": "python",
   "pygments_lexer": "ipython3",
   "version": "3.7.4"
  }
 },
 "nbformat": 4,
 "nbformat_minor": 2
}
